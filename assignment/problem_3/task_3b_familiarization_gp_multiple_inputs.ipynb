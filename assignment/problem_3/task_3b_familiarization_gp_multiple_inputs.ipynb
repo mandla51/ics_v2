{
 "cells": [
  {
   "cell_type": "markdown",
   "id": "ac408b5e",
   "metadata": {
    "deletable": false,
    "editable": false,
    "nbgrader": {
     "cell_type": "markdown",
     "checksum": "7619294def77410a539e618e2428f0d5",
     "grade": false,
     "grade_id": "cell-b00828259c8e42e8",
     "locked": true,
     "schema_version": 3,
     "solution": false,
     "task": false
    }
   },
   "source": [
    "# RO47019: Intelligent Control Systems Practical Assignment\n",
    "* Period: 2023-2024, Q3\n",
    "* Course homepage: https://brightspace.tudelft.nl/d2l/home/500969\n",
    "* Instructor: Cosimo Della Santina (C.DellaSantina@tudelft.nl)\n",
    "* Teaching assistant: Maria de Neves de Fonseca (M.deNevesdeFonseca-1@student.tudelft.nl)\n",
    "* (c) TU Delft, 2024\n",
    "\n",
    "Make sure you fill in any place that says `YOUR CODE HERE` or `YOUR ANSWER HERE`. Remove `raise NotImplementedError()` afterwards. Moreover, if you see an empty cell, please DO NOT delete it, instead run that cell as you would run all other cells. Please fill in your name(s) and other required details below:"
   ]
  },
  {
   "cell_type": "code",
   "execution_count": 1,
   "id": "4f9e220c",
   "metadata": {},
   "outputs": [],
   "source": [
    "# Please fill in your names, student numbers, netID, and emails below.\n",
    "STUDENT_1_NAME = \"timothy van den Heuvel\"\n",
    "STUDENT_1_STUDENT_NUMBER = \"5606403\"\n",
    "STUDENT_1_NETID = \"timvandenheuve\"\n",
    "STUDENT_1_EMAIL = \"t.j.vandenheuvel-1@student.tudelft.nl\""
   ]
  },
  {
   "cell_type": "code",
   "execution_count": 2,
   "id": "8ba32571",
   "metadata": {
    "deletable": false,
    "editable": false,
    "nbgrader": {
     "cell_type": "code",
     "checksum": "042927213b84aa368aa3ea72caa4cb60",
     "grade": true,
     "grade_id": "cell-9f148ec62e0de49c",
     "locked": true,
     "points": 0,
     "schema_version": 3,
     "solution": false,
     "task": false
    }
   },
   "outputs": [],
   "source": [
    "# Note: this block is a check that you have filled in the above information.\n",
    "# It will throw an AssertionError until all fields are filled\n",
    "assert STUDENT_1_NAME != \"\"\n",
    "assert STUDENT_1_STUDENT_NUMBER != \"\"\n",
    "assert STUDENT_1_NETID != \"\"\n",
    "assert STUDENT_1_EMAIL != \"\""
   ]
  },
  {
   "cell_type": "markdown",
   "id": "af317a94",
   "metadata": {
    "deletable": false,
    "editable": false,
    "nbgrader": {
     "cell_type": "markdown",
     "checksum": "95c5b11f9ac3896252d342cabb38d867",
     "grade": false,
     "grade_id": "cell-4ea391677951116c",
     "locked": true,
     "schema_version": 3,
     "solution": false,
     "task": false
    }
   },
   "source": [
    "### General announcements\n",
    "\n",
    "* Do *not* share your solutions (also after the course is finished), and do *not* copy solutions from others. By submitting your solutions, you claim that you alone are responsible for this code.\n",
    "\n",
    "* Do *not* email questions directly, since we want to provide everybody with the same information and avoid repeating the same answers. Instead, please post your questions regarding this assignment in the correct support forum on Brightspace, this way everybody can benefit from the response. If you do have a particular question that you want to ask directly, please use the scheduled Q&A hours to ask the TA.\n",
    "\n",
    "* There is a strict deadline for each assignment. Students are responsible to ensure that they have uploaded their work in time. So, please double check that your upload succeeded to the Brightspace and avoid any late penalties.\n",
    "\n",
    "* This [Jupyter notebook](https://jupyter.org/) uses `nbgrader` to help us with automated tests. `nbgrader` will make various cells in this notebook \"uneditable\" or \"unremovable\" and gives them a special id in the cell metadata. This way, when we run our checks, the system will check the existence of the cell ids and verify the number of points and which checks must be run. While there are ways that you can edit the metadata and work around the restrictions to delete or modify these special cells, you should not do that since then our nbgrader backend will not be able to parse your notebook and give you points for the assignment. You are free to add additional cells, but if you find a cell that you cannot modify or remove, please know that this is on purpose.\n",
    "\n",
    "* This notebook will have in various places a line that throws a `NotImplementedError` exception. These are locations where the assignment requires you to adapt the code! These lines are just there as a reminder for you that you have not yet adapted that particular piece of code, especially when you execute all the cells. Once your solution code replaced these lines, it should accordingly *not* throw any exceptions anymore.\n",
    "\n",
    "Before you turn this problem in, make sure everything runs as expected. First, **restart the kernel** (in the menubar, select Kernel$\\rightarrow$Restart) and then **run all cells** (in the menubar, select Cell$\\rightarrow$Run All)."
   ]
  },
  {
   "cell_type": "code",
   "execution_count": null,
   "id": "3c956945",
   "metadata": {},
   "outputs": [],
   "source": []
  },
  {
   "cell_type": "markdown",
   "metadata": {
    "deletable": false,
    "editable": false,
    "nbgrader": {
     "cell_type": "markdown",
     "checksum": "a29dd387c402d3428f4cfdae33fc86cc",
     "grade": false,
     "grade_id": "cell-09ee0d8744e5ae05",
     "locked": true,
     "schema_version": 3,
     "solution": false,
     "task": false
    }
   },
   "source": [
    "# Task 3b - Familiarization with Multi-Input Single output GPs (5p) (Bonus)\n",
    "**Authors:** Giovanni Franzese (G.Franzese@tudelft.nl), Lorenzo Lyons (L.Lyons@tudelft.nl)"
   ]
  },
  {
   "cell_type": "code",
   "execution_count": 3,
   "metadata": {
    "deletable": false,
    "editable": false,
    "nbgrader": {
     "cell_type": "code",
     "checksum": "580d23f30196d59b4f4026cd53525f23",
     "grade": false,
     "grade_id": "cell-ba3273c841494da7",
     "locked": true,
     "schema_version": 3,
     "solution": false,
     "task": false
    }
   },
   "outputs": [
    {
     "name": "stderr",
     "output_type": "stream",
     "text": [
      "/tmp/ipykernel_10639/602362737.py:8: DeprecationWarning: \n",
      "Pyarrow will become a required dependency of pandas in the next major release of pandas (pandas 3.0),\n",
      "(to allow more performant data types, such as the Arrow string type, and better interoperability with other libraries)\n",
      "but was not found to be installed on your system.\n",
      "If this would cause problems for you,\n",
      "please provide us feedback at https://github.com/pandas-dev/pandas/issues/54466\n",
      "        \n",
      "  import pandas as pd\n"
     ]
    }
   ],
   "source": [
    "import gpytorch\n",
    "from gpytorch.models import ApproximateGP\n",
    "from gpytorch.variational import CholeskyVariationalDistribution\n",
    "from gpytorch.variational import VariationalStrategy\n",
    "import matplotlib.pyplot as plt\n",
    "from matplotlib.widgets import Slider\n",
    "import numpy as np\n",
    "import pandas as pd\n",
    "from pathlib import Path\n",
    "import torch\n",
    "from torch.utils.data import TensorDataset, DataLoader\n",
    "from tqdm.notebook import tqdm  # progress bar\n",
    "\n",
    "# define folder where to save animations and plots\n",
    "outputs_dir = Path(\"outputs\")\n",
    "outputs_dir.mkdir(parents=True, exist_ok=True)"
   ]
  },
  {
   "cell_type": "markdown",
   "metadata": {
    "deletable": false,
    "editable": false,
    "nbgrader": {
     "cell_type": "markdown",
     "checksum": "e83e0ef63ba046a0f3056ff765a0b1d1",
     "grade": false,
     "grade_id": "cell-a465b1b75d945b2b",
     "locked": true,
     "schema_version": 3,
     "solution": false,
     "task": false
    }
   },
   "source": [
    "## Task 3b.1 - Load the dataset with concrete data (0p)"
   ]
  },
  {
   "cell_type": "code",
   "execution_count": 4,
   "metadata": {
    "deletable": false,
    "editable": false,
    "nbgrader": {
     "cell_type": "code",
     "checksum": "3ff58139f3f2857e51d8ca4a032ea0a8",
     "grade": false,
     "grade_id": "cell-c30144953f9790f1",
     "locked": true,
     "schema_version": 3,
     "solution": false,
     "task": false
    }
   },
   "outputs": [
    {
     "data": {
      "text/html": [
       "<div>\n",
       "<style scoped>\n",
       "    .dataframe tbody tr th:only-of-type {\n",
       "        vertical-align: middle;\n",
       "    }\n",
       "\n",
       "    .dataframe tbody tr th {\n",
       "        vertical-align: top;\n",
       "    }\n",
       "\n",
       "    .dataframe thead th {\n",
       "        text-align: right;\n",
       "    }\n",
       "</style>\n",
       "<table border=\"1\" class=\"dataframe\">\n",
       "  <thead>\n",
       "    <tr style=\"text-align: right;\">\n",
       "      <th></th>\n",
       "      <th>Cement (component 1)(kg in a m^3 mixture)</th>\n",
       "      <th>Blast Furnace Slag (component 2)(kg in a m^3 mixture)</th>\n",
       "      <th>Fly Ash (component 3)(kg in a m^3 mixture)</th>\n",
       "      <th>Water  (component 4)(kg in a m^3 mixture)</th>\n",
       "      <th>Superplasticizer (component 5)(kg in a m^3 mixture)</th>\n",
       "      <th>Coarse Aggregate  (component 6)(kg in a m^3 mixture)</th>\n",
       "      <th>Fine Aggregate (component 7)(kg in a m^3 mixture)</th>\n",
       "      <th>Age (day)</th>\n",
       "      <th>Concrete compressive strength(MPa, megapascals)</th>\n",
       "    </tr>\n",
       "  </thead>\n",
       "  <tbody>\n",
       "    <tr>\n",
       "      <th>0</th>\n",
       "      <td>540.0</td>\n",
       "      <td>0.0</td>\n",
       "      <td>0.0</td>\n",
       "      <td>162.0</td>\n",
       "      <td>2.5</td>\n",
       "      <td>1040.0</td>\n",
       "      <td>676.0</td>\n",
       "      <td>28</td>\n",
       "      <td>79.99</td>\n",
       "    </tr>\n",
       "    <tr>\n",
       "      <th>1</th>\n",
       "      <td>540.0</td>\n",
       "      <td>0.0</td>\n",
       "      <td>0.0</td>\n",
       "      <td>162.0</td>\n",
       "      <td>2.5</td>\n",
       "      <td>1055.0</td>\n",
       "      <td>676.0</td>\n",
       "      <td>28</td>\n",
       "      <td>61.89</td>\n",
       "    </tr>\n",
       "    <tr>\n",
       "      <th>2</th>\n",
       "      <td>332.5</td>\n",
       "      <td>142.5</td>\n",
       "      <td>0.0</td>\n",
       "      <td>228.0</td>\n",
       "      <td>0.0</td>\n",
       "      <td>932.0</td>\n",
       "      <td>594.0</td>\n",
       "      <td>270</td>\n",
       "      <td>40.27</td>\n",
       "    </tr>\n",
       "    <tr>\n",
       "      <th>3</th>\n",
       "      <td>332.5</td>\n",
       "      <td>142.5</td>\n",
       "      <td>0.0</td>\n",
       "      <td>228.0</td>\n",
       "      <td>0.0</td>\n",
       "      <td>932.0</td>\n",
       "      <td>594.0</td>\n",
       "      <td>365</td>\n",
       "      <td>41.05</td>\n",
       "    </tr>\n",
       "    <tr>\n",
       "      <th>4</th>\n",
       "      <td>198.6</td>\n",
       "      <td>132.4</td>\n",
       "      <td>0.0</td>\n",
       "      <td>192.0</td>\n",
       "      <td>0.0</td>\n",
       "      <td>978.4</td>\n",
       "      <td>825.5</td>\n",
       "      <td>360</td>\n",
       "      <td>44.30</td>\n",
       "    </tr>\n",
       "  </tbody>\n",
       "</table>\n",
       "</div>"
      ],
      "text/plain": [
       "   Cement (component 1)(kg in a m^3 mixture)  \\\n",
       "0                                      540.0   \n",
       "1                                      540.0   \n",
       "2                                      332.5   \n",
       "3                                      332.5   \n",
       "4                                      198.6   \n",
       "\n",
       "   Blast Furnace Slag (component 2)(kg in a m^3 mixture)  \\\n",
       "0                                                0.0       \n",
       "1                                                0.0       \n",
       "2                                              142.5       \n",
       "3                                              142.5       \n",
       "4                                              132.4       \n",
       "\n",
       "   Fly Ash (component 3)(kg in a m^3 mixture)  \\\n",
       "0                                         0.0   \n",
       "1                                         0.0   \n",
       "2                                         0.0   \n",
       "3                                         0.0   \n",
       "4                                         0.0   \n",
       "\n",
       "   Water  (component 4)(kg in a m^3 mixture)  \\\n",
       "0                                      162.0   \n",
       "1                                      162.0   \n",
       "2                                      228.0   \n",
       "3                                      228.0   \n",
       "4                                      192.0   \n",
       "\n",
       "   Superplasticizer (component 5)(kg in a m^3 mixture)  \\\n",
       "0                                                2.5     \n",
       "1                                                2.5     \n",
       "2                                                0.0     \n",
       "3                                                0.0     \n",
       "4                                                0.0     \n",
       "\n",
       "   Coarse Aggregate  (component 6)(kg in a m^3 mixture)  \\\n",
       "0                                             1040.0      \n",
       "1                                             1055.0      \n",
       "2                                              932.0      \n",
       "3                                              932.0      \n",
       "4                                              978.4      \n",
       "\n",
       "   Fine Aggregate (component 7)(kg in a m^3 mixture)  Age (day)  \\\n",
       "0                                              676.0         28   \n",
       "1                                              676.0         28   \n",
       "2                                              594.0        270   \n",
       "3                                              594.0        365   \n",
       "4                                              825.5        360   \n",
       "\n",
       "   Concrete compressive strength(MPa, megapascals)   \n",
       "0                                             79.99  \n",
       "1                                             61.89  \n",
       "2                                             40.27  \n",
       "3                                             41.05  \n",
       "4                                             44.30  "
      ]
     },
     "execution_count": 4,
     "metadata": {},
     "output_type": "execute_result"
    }
   ],
   "source": [
    "data = pd.read_csv(Path(\"datasets\") / \"Concrete_Data.csv\")\n",
    "data.head()"
   ]
  },
  {
   "cell_type": "markdown",
   "metadata": {
    "deletable": false,
    "editable": false,
    "nbgrader": {
     "cell_type": "markdown",
     "checksum": "06c5e2b7505739407c82ae714b414efa",
     "grade": false,
     "grade_id": "cell-de085ea88ff5f270",
     "locked": true,
     "schema_version": 3,
     "solution": false,
     "task": false
    }
   },
   "source": [
    "In this task, we will use the dataset with concrete data. The dataset is available in the file `concrete_data.csv`. The dataset contains 8 input variables and 1 output variable. The input variables are Cement, Blast Furnace Slag, Fly Ash, Water, Superplasticizer, Coarse Aggregate, Fine Aggregate, and Age. The output variable is the compressive strength of the concrete. \n",
    "We want to use a Gaussian Process to model the compressive strength of the concrete as a function of the other variables. Such a model can be useful in designing concrete mixtures or predicting the strength given the mixture properties. \n",
    "Let's divide the dataset into the training (80 %) and test (20 %) sets. We also initialize the 300 inducing points as randomly selected from the training set."
   ]
  },
  {
   "cell_type": "code",
   "execution_count": 5,
   "metadata": {
    "deletable": false,
    "editable": false,
    "nbgrader": {
     "cell_type": "code",
     "checksum": "a3920ba44548f7130d30a6376320fdda",
     "grade": false,
     "grade_id": "cell-e6817cbb93d174b4",
     "locked": true,
     "schema_version": 3,
     "solution": false,
     "task": false
    }
   },
   "outputs": [],
   "source": [
    "# Extract X and Y from the dataframe and convert to numpy arrays\n",
    "data_numpy = data.to_numpy()\n",
    "X = data_numpy[:, :-1]\n",
    "Y = data_numpy[:, -1]\n",
    "\n",
    "# Assuming X and Y are your features and labels, respectively\n",
    "# Let's say you have 80% of the data for training and 20% for testing\n",
    "\n",
    "# Set a random seed for reproducibility\n",
    "np.random.seed(42)\n",
    "\n",
    "# Get the number of samples in your dataset\n",
    "num_samples = len(X)\n",
    "\n",
    "# Define the percentage split\n",
    "train_percentage = 0.8\n",
    "\n",
    "# Calculate the number of samples for training\n",
    "num_train_samples = int(train_percentage * num_samples)\n",
    "\n",
    "# Generate random indices for the training set\n",
    "train_indices = np.random.choice(num_samples, num_train_samples, replace=False)\n",
    "\n",
    "# Use the remaining indices for the test set\n",
    "test_indices = np.setdiff1d(np.arange(num_samples), train_indices)\n",
    "\n",
    "# Split the data based on the generated indices\n",
    "train_x, train_y = X[train_indices], Y[train_indices]\n",
    "test_x, test_y = X[test_indices], Y[test_indices]\n",
    "\n",
    "# create the training dataloader\n",
    "train_x_torch = torch.from_numpy(train_x).double()\n",
    "train_y_torch = torch.from_numpy(train_y).double()\n",
    "train_dataset = TensorDataset(train_x_torch, train_y_torch)\n",
    "train_loader = DataLoader(train_dataset, batch_size=256, shuffle=True)\n",
    "\n",
    "# pick inducing points randomly from the training data\n",
    "num_inducing_points = 300\n",
    "inducing_points_index = np.random.choice(\n",
    "    num_train_samples, num_inducing_points, replace=False\n",
    ")\n",
    "inducing_points = torch.from_numpy(train_x[inducing_points_index, :]).double()"
   ]
  },
  {
   "cell_type": "markdown",
   "metadata": {
    "deletable": false,
    "editable": false,
    "nbgrader": {
     "cell_type": "markdown",
     "checksum": "fe9f2ec162952480bf5e187e493417ba",
     "grade": false,
     "grade_id": "cell-35010650535c774e",
     "locked": true,
     "schema_version": 3,
     "solution": false,
     "task": false
    }
   },
   "source": [
    "## Task 3b.2 - Construct a Sparse Gaussian Process with Multiple-Input Single Output (0.5p)\n",
    "Choose the Zero mean or the constant mean according to the if/else statement of the class. Choose the kernel to be an RBF kernel with ARD (0.5p). In GPytorch, the ARD is implemented by setting the `ard_num_dims` parameter of the kernel to the number of input features."
   ]
  },
  {
   "cell_type": "code",
   "execution_count": 6,
   "metadata": {
    "deletable": false,
    "nbgrader": {
     "cell_type": "code",
     "checksum": "d06bca671c5fb28b5452b59952d11d74",
     "grade": true,
     "grade_id": "cell-7665366ef6109e2e",
     "locked": false,
     "points": 0.5,
     "schema_version": 3,
     "solution": true,
     "task": false
    }
   },
   "outputs": [],
   "source": [
    "class SVGPModel(ApproximateGP):\n",
    "    def __init__(self, inducing_points, constant_mean=False):\n",
    "        variational_distribution = CholeskyVariationalDistribution(\n",
    "            inducing_points.size(0)\n",
    "        )\n",
    "        variational_strategy = VariationalStrategy(\n",
    "            self,\n",
    "            inducing_points,\n",
    "            variational_distribution,\n",
    "            learn_inducing_locations=True,\n",
    "        )\n",
    "        super(SVGPModel, self).__init__(variational_strategy)\n",
    "        if constant_mean:\n",
    "            # self.mean_module =\n",
    "            # YOUR CODE HERE\n",
    "            self.mean_module = gpytorch.means.ConstantMean()\n",
    "        else:  # Zero mean\n",
    "            # self.mean_module =\n",
    "            # YOUR CODE HERE\n",
    "            self.mean_module = gpytorch.means.ZeroMean()\n",
    "\n",
    "        # Use a RBF kernel with automatic relevance determination (ARD)\n",
    "        # YOUR CODE HERE\n",
    "        self.covar_module = gpytorch.kernels.ScaleKernel(gpytorch.kernels.RBFKernel(ard_num_dims=8))\n",
    "        #self.covar_module = ScaleKernel(RBFKernel(ard_num_dims=inducing_points.size(1)))\n",
    "\n",
    "    def forward(self, x):\n",
    "        mean_x = self.mean_module(x)\n",
    "        covar_x = self.covar_module(x)\n",
    "        return gpytorch.distributions.MultivariateNormal(mean_x, covar_x)"
   ]
  },
  {
   "cell_type": "markdown",
   "metadata": {
    "deletable": false,
    "editable": false,
    "nbgrader": {
     "cell_type": "markdown",
     "checksum": "781d0feb35104574353616828c2cbf53",
     "grade": false,
     "grade_id": "cell-fb812c2182ac28c5",
     "locked": true,
     "schema_version": 3,
     "solution": false,
     "task": false
    }
   },
   "source": [
    "## Task 3b.3 - Design a function for training the variational parameters (0.5p)\n",
    "Correctly define the marginal log-likelihood, considering our model is an approximate SVGP."
   ]
  },
  {
   "cell_type": "code",
   "execution_count": 7,
   "metadata": {
    "deletable": false,
    "nbgrader": {
     "cell_type": "code",
     "checksum": "c81553f91a33975edd902da0b6b55ecd",
     "grade": true,
     "grade_id": "cell-10b461dbe4e562bc",
     "locked": false,
     "points": 0.5,
     "schema_version": 3,
     "solution": true,
     "task": false
    }
   },
   "outputs": [],
   "source": [
    "def train_variational_parameters(likelihood, model, num_epochs: int = 2000):\n",
    "    optimizer = torch.optim.Adam(\n",
    "        [\n",
    "            {\"params\": model.parameters()},\n",
    "            {\"params\": likelihood.parameters()},\n",
    "        ],\n",
    "        lr=0.01,\n",
    "    )\n",
    "\n",
    "    # Our loss object. We're using the VariationalELBO\n",
    "    # mll =\n",
    "    # YOUR CODE HERE\n",
    "    #gpytorch.mlls.VariationalELBO(likelihood, model, num_data=train_y.size(0))\n",
    "    mll = gpytorch.mlls.VariationalELBO(likelihood, model, num_data=len(train_loader.dataset))\n",
    "\n",
    "    model.train()\n",
    "    likelihood.train()\n",
    "    for i in tqdm(range(num_epochs)):\n",
    "        # Within each iteration, we will go over each minibatch of data\n",
    "        for x_batch, y_batch in train_loader:\n",
    "            optimizer.zero_grad()\n",
    "            output = model(x_batch)\n",
    "            loss = -mll(output, y_batch)\n",
    "            loss.backward()\n",
    "            optimizer.step()"
   ]
  },
  {
   "cell_type": "markdown",
   "metadata": {
    "deletable": false,
    "editable": false,
    "nbgrader": {
     "cell_type": "markdown",
     "checksum": "18add06b55c8efd7bb6d7c9a7c63b533",
     "grade": false,
     "grade_id": "cell-f615d3eafce743e1",
     "locked": true,
     "schema_version": 3,
     "solution": false,
     "task": false
    }
   },
   "source": [
    "## Task 3b.4 - Define a function for evaluating the model and computing metrics (1.5p)\n",
    "When we predict the strength of a material, the absolute error is not the only metric we are interested in. We are going also to compute the accuracy of the model. We consider the prediction correct if the absolute error is less than two times the standard deviation, considering that the GP is a probabilistic model. Moreover, we are interested in quantifying the percentage of dangerous predictions. We consider a prediction dangerous if the model's lower confidence bound, i.e., the prediction minus two standard deviations, is higher than the actual value. This means that if the engineers use the lower confidence bound as a safety value for the strength of the material, they are still overestimating the strength, which may lead to undesired failures.\n",
    "\n",
    "\n",
    "Compute the following metrics.\n",
    "- Mean Absolute Error (MAE) on the train set\n",
    "- Mean Absolute Error (MAE) on the test set\n",
    "- Accuracy of the model on the train set (consider the prediction as correct if the absolute error is less than two times the standard deviation)\n",
    "- Accuracy of the model on the test set (consider the prediction as correct if the absolute error is less than two times the standard deviation)\n",
    "- Quantify the percentage of dangerous prediction, i.e., the prediction minus two standard deviations is higher than the actual value on the train set. \n",
    "- Quantify the percentage of dangerous prediction, i.e., the prediction minus two standard deviations is higher than the actual value, on the test set\n"
   ]
  },
  {
   "cell_type": "code",
   "execution_count": 10,
   "metadata": {
    "deletable": false,
    "nbgrader": {
     "cell_type": "code",
     "checksum": "a2d47e266d658db7902ff7e698ffd867",
     "grade": true,
     "grade_id": "cell-d857b199bf25d735",
     "locked": false,
     "points": 1.5,
     "schema_version": 3,
     "solution": true,
     "task": false
    }
   },
   "outputs": [],
   "source": [
    "def evaluate_model(likelihood, model):\n",
    "    # Get into evaluation (predictive posterior) mode\n",
    "    model.eval()\n",
    "    likelihood.eval()\n",
    "\n",
    "    # Evaluate the model on the test data\n",
    "    with torch.no_grad(), gpytorch.settings.fast_pred_var():\n",
    "        test_x_torch = torch.from_numpy(test_x).double()\n",
    "        test_y_torch = torch.from_numpy(test_y).double()\n",
    "\n",
    "        train_pred = likelihood(model(train_x_torch))\n",
    "        test_pred = likelihood(model(test_x_torch))\n",
    "\n",
    "        # YOUR CODE HERE\n",
    "        mae_train = torch.mean(torch.abs(train_pred.mean - train_y_torch))\n",
    "        mae_test = torch.mean(torch.abs(test_pred.mean - test_y_torch))\n",
    "        train_std = train_pred.stddev\n",
    "        test_std = test_pred.stddev\n",
    "\n",
    "        \n",
    "        correct_train = torch.abs(train_pred.mean - train_y_torch) < (2 * train_std)\n",
    "        accuracy_train = torch.sum(correct_train).item() / len(correct_train)\n",
    "\n",
    "        \n",
    "        correct_test = torch.abs(test_pred.mean - test_y_torch) < (2 * test_std)\n",
    "        accuracy_test = torch.sum(correct_test).item() / len(correct_test)\n",
    "\n",
    "        \n",
    "        dangerous_prediction_train = torch.sum(\n",
    "            train_pred.mean - (2 * train_std) > train_y_torch\n",
    "        ).item() / len(train_y)\n",
    "\n",
    "    \n",
    "        dangerous_prediction_test = torch.sum(\n",
    "            test_pred.mean - (2 * test_std) > test_y_torch\n",
    "        ).item() / len(test_y)\n",
    "\n",
    "\n",
    "\n",
    "\n",
    "        print(f\"MAE on train set: {mae_train}\")\n",
    "        print(f\"MAE on test set: {mae_test}\")\n",
    "        print(f\"Accuracy on train set: {accuracy_train}\")\n",
    "        print(f\"Accuracy on test set: {accuracy_test}\")\n",
    "        print(\n",
    "            f\"Dangerous percentage prediction on train set: {dangerous_prediction_train}\"\n",
    "        )\n",
    "        print(\n",
    "            f\"Dangerous percentage prediction on test set {dangerous_prediction_test}\"\n",
    "        )\n",
    "\n",
    "        return train_pred, test_pred"
   ]
  },
  {
   "cell_type": "markdown",
   "metadata": {
    "deletable": false,
    "editable": false,
    "nbgrader": {
     "cell_type": "markdown",
     "checksum": "123e14c4765b46036359d36b8afb2abe",
     "grade": false,
     "grade_id": "cell-b78bf3bbaee489d2",
     "locked": true,
     "schema_version": 3,
     "solution": false,
     "task": false
    }
   },
   "source": [
    "## Task 3b.5 - Train and evaluate the `SVGPModel` with a constant mean (2.5)\n",
    "### Task 3b.5.1 - Initialize a constant mean model and the Gaussian Likelihood (0.5p)"
   ]
  },
  {
   "cell_type": "code",
   "execution_count": 13,
   "metadata": {
    "deletable": false,
    "nbgrader": {
     "cell_type": "code",
     "checksum": "6329f21e03fadc9c0f387969c5eaa6dd",
     "grade": true,
     "grade_id": "cell-ce838438be8fda36",
     "locked": false,
     "points": 0.5,
     "schema_version": 3,
     "solution": true,
     "task": false
    }
   },
   "outputs": [
    {
     "data": {
      "application/vnd.jupyter.widget-view+json": {
       "model_id": "c094f6f7eb5144c281686c4153030edc",
       "version_major": 2,
       "version_minor": 0
      },
      "text/plain": [
       "  0%|          | 0/2000 [00:00<?, ?it/s]"
      ]
     },
     "metadata": {},
     "output_type": "display_data"
    }
   ],
   "source": [
    "# Set a random seed for reproducibility\n",
    "np.random.seed(43)\n",
    "\n",
    "# initialize the model\n",
    "# model_constant_mean =\n",
    "# likelihood_constant_mean =\n",
    "# YOUR CODE HERE\n",
    "#inducing_points = torch.tensor(your_inducing_points) \n",
    "model_constant_mean = SVGPModel(inducing_points, constant_mean=True)\n",
    "likelihood_constant_mean = gpytorch.likelihoods.GaussianLikelihood()\n",
    "\n",
    "model_constant_mean = model_constant_mean.double()\n",
    "likelihood_constant_mean = likelihood_constant_mean.double()\n",
    "\n",
    "# train the variational parameters\n",
    "train_variational_parameters(likelihood_constant_mean, model_constant_mean)"
   ]
  },
  {
   "cell_type": "markdown",
   "metadata": {
    "deletable": false,
    "editable": false,
    "nbgrader": {
     "cell_type": "markdown",
     "checksum": "554e780e22b08ee42ed16845103d6c84",
     "grade": false,
     "grade_id": "cell-cb961022f25dc296",
     "locked": true,
     "schema_version": 3,
     "solution": false,
     "task": false
    }
   },
   "source": [
    "### Task 3b.5.2 - Evaluate the model and print metrics (0.5p)"
   ]
  },
  {
   "cell_type": "code",
   "execution_count": 14,
   "metadata": {
    "deletable": false,
    "nbgrader": {
     "cell_type": "code",
     "checksum": "2e9fa364bedf41eb15b2c711ff72a6ec",
     "grade": true,
     "grade_id": "cell-6928ae580ad74ab9",
     "locked": false,
     "points": 0.5,
     "schema_version": 3,
     "solution": true,
     "task": false
    }
   },
   "outputs": [
    {
     "name": "stdout",
     "output_type": "stream",
     "text": [
      "MAE on train set: 3.250171521905914\n",
      "MAE on test set: 6.260626931001415\n",
      "Accuracy on train set: 0.9223300970873787\n",
      "Accuracy on test set: 0.7718446601941747\n",
      "Dangerous percentage prediction on train set: 0.01820388349514563\n",
      "Dangerous percentage prediction on test set 0.07766990291262135\n"
     ]
    }
   ],
   "source": [
    "# Call the function to evaluate the model\n",
    "# train_pred_constant_mean, test_pred_constant_mean =\n",
    "# YOUR CODE HERE\n",
    "train_pred_constant_mean, test_pred_constant_mean = evaluate_model(likelihood_constant_mean, model_constant_mean)"
   ]
  },
  {
   "cell_type": "markdown",
   "metadata": {
    "deletable": false,
    "editable": false,
    "nbgrader": {
     "cell_type": "markdown",
     "checksum": "67cfa98fc6dc441fa0668744768b1dda",
     "grade": false,
     "grade_id": "cell-c7e9855aaa27f18b",
     "locked": true,
     "schema_version": 3,
     "solution": false,
     "task": false
    }
   },
   "source": [
    "### Task 3b.5.3 - Print the horizontal and the vertical length scales, and the constant mean value (0.5p)"
   ]
  },
  {
   "cell_type": "code",
   "execution_count": 19,
   "metadata": {
    "deletable": false,
    "nbgrader": {
     "cell_type": "code",
     "checksum": "da023fd95f3f0bbeb169723d34e5acc6",
     "grade": true,
     "grade_id": "cell-b3f9a306950753b9",
     "locked": false,
     "points": 0.5,
     "schema_version": 3,
     "solution": true,
     "task": false
    }
   },
   "outputs": [
    {
     "name": "stdout",
     "output_type": "stream",
     "text": [
      "Horizontal Lenghtscale of the kernel: \n",
      "Horizontal lengthscales: tensor([[62.1599, 66.0521, 59.0058, 47.1493, 32.6108, 60.4470, 65.0449, 21.9596]],\n",
      "       dtype=torch.float64, grad_fn=<SoftplusBackward0>)\n",
      "Vertical Lengthscale of the kernel: \n",
      "Vertical lengthscales: Parameter containing:\n",
      "tensor(32.9003, dtype=torch.float64, requires_grad=True)\n",
      "Constant mean value: \n"
     ]
    },
    {
     "data": {
      "text/plain": [
       "22.997170361899038"
      ]
     },
     "execution_count": 19,
     "metadata": {},
     "output_type": "execute_result"
    }
   ],
   "source": [
    "print(\"Horizontal Lenghtscale of the kernel: \")\n",
    "# YOUR CODE HERE\n",
    "print(\"Horizontal lengthscales:\", model_constant_mean.covar_module.base_kernel.lengthscale)\n",
    "\n",
    "print(\"Vertical Lengthscale of the kernel: \")\n",
    "# YOUR CODE HERE\n",
    "print(\"Vertical lengthscales:\", model_constant_mean.covar_module.raw_outputscale)\n",
    "\n",
    "print(\"Constant mean value: \")\n",
    "# YOUR CODE HERE\n",
    "model_constant_mean.mean_module.constant.item()\n"
   ]
  },
  {
   "cell_type": "markdown",
   "metadata": {
    "deletable": false,
    "editable": false,
    "nbgrader": {
     "cell_type": "markdown",
     "checksum": "d5d7143b46d52e07193e554c30a5061b",
     "grade": false,
     "grade_id": "cell-e1d1af24aca2a8ae",
     "locked": true,
     "schema_version": 3,
     "solution": false,
     "task": false
    }
   },
   "source": [
    "### Task 3b.5.4 - Plot the predictions on the test set (0p)"
   ]
  },
  {
   "cell_type": "code",
   "execution_count": 20,
   "metadata": {
    "deletable": false,
    "editable": false,
    "nbgrader": {
     "cell_type": "code",
     "checksum": "df8194c155aeca0ffef1b306943a0601",
     "grade": false,
     "grade_id": "cell-3da8dc9038b9d08e",
     "locked": true,
     "schema_version": 3,
     "solution": false,
     "task": false
    }
   },
   "outputs": [
    {
     "data": {
      "application/vnd.jupyter.widget-view+json": {
       "model_id": "7b102941b7604498a4049e84466b15c4",
       "version_major": 2,
       "version_minor": 0
      },
      "image/png": "[encoded data removed]",
      "text/html": [
       "\n",
       "            <div style=\"display: inline-block;\">\n",
       "                <div class=\"jupyter-widgets widget-label\" style=\"text-align: center;\">\n",
       "                    Figure\n",
       "                </div>\n",
       "                <img src='data:image/png;base64,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' width=640.0/>\n",
       "            </div>\n",
       "        "
      ],
      "text/plain": [
       "Canvas(toolbar=Toolbar(toolitems=[('Home', 'Reset original view', 'home', 'home'), ('Back', 'Back to previous …"
      ]
     },
     "metadata": {},
     "output_type": "display_data"
    }
   ],
   "source": [
    "%matplotlib widget\n",
    "\n",
    "# Setting fig and ax variables as subplots()\n",
    "# function returns tuple(fig, ax)\n",
    "fig, ax = plt.subplots()\n",
    "\n",
    "# Adjust the bottom size according to the\n",
    "# requirement of the user\n",
    "plt.subplots_adjust(bottom=0.25)\n",
    "\n",
    "index = np.arange(test_y.shape[0])\n",
    "plt.errorbar(\n",
    "    index,\n",
    "    test_pred_constant_mean.mean.numpy(),\n",
    "    yerr=2 * test_pred_constant_mean.stddev.numpy(),\n",
    "    fmt=\"*\",\n",
    "    label=\"Predictions with uncertainty\",\n",
    ")\n",
    "plt.plot(index, test_y, \"o\", label=\"True values\")\n",
    "\n",
    "plt.title(\"Prediction on test set\")\n",
    "# Choose the Slider color\n",
    "slider_color = \"White\"\n",
    "\n",
    "# Set the axis and slider position in the plot\n",
    "axis_position = plt.axes([0.2, 0.1, 0.65, 0.03], facecolor=slider_color)\n",
    "slider_position = Slider(axis_position, \"Pos\", 0.1, 90.0)\n",
    "\n",
    "\n",
    "# update() function to change the graph when the\n",
    "# slider is in use\n",
    "def update(val):\n",
    "    pos = slider_position.val\n",
    "    ax.axis([pos, pos + 20, 0, 100])\n",
    "    fig.canvas.draw_idle()\n",
    "\n",
    "\n",
    "# update function called using on_changed() function\n",
    "slider_position.on_changed(update)\n",
    "\n",
    "# Display the plot\n",
    "plt.savefig(outputs_dir / \"task_3b-5-4_predictions_on_test_set.pdf\")\n",
    "plt.show()"
   ]
  },
  {
   "cell_type": "markdown",
   "metadata": {
    "deletable": false,
    "editable": false,
    "nbgrader": {
     "cell_type": "markdown",
     "checksum": "275857537168d718574ed30f01de75f3",
     "grade": false,
     "grade_id": "cell-bf8dca82183883b9",
     "locked": true,
     "schema_version": 3,
     "solution": false,
     "task": false
    }
   },
   "source": [
    "## Task 3b.6 - Train and evaluate the `SVGPModel` with zero mean (0p)"
   ]
  },
  {
   "cell_type": "code",
   "execution_count": 21,
   "metadata": {
    "deletable": false,
    "nbgrader": {
     "cell_type": "code",
     "checksum": "339f5041515ce08cec195743430d6a42",
     "grade": true,
     "grade_id": "cell-6b0ddd961eed0731",
     "locked": false,
     "points": 0,
     "schema_version": 3,
     "solution": true,
     "task": false
    }
   },
   "outputs": [
    {
     "data": {
      "application/vnd.jupyter.widget-view+json": {
       "model_id": "08e40d983d374b24ad753dda543c10e1",
       "version_major": 2,
       "version_minor": 0
      },
      "text/plain": [
       "  0%|          | 0/2000 [00:00<?, ?it/s]"
      ]
     },
     "metadata": {},
     "output_type": "display_data"
    },
    {
     "name": "stdout",
     "output_type": "stream",
     "text": [
      "MAE on train set: 3.41734112047783\n",
      "MAE on test set: 6.917656755918434\n",
      "Accuracy on train set: 0.9259708737864077\n",
      "Accuracy on test set: 0.7912621359223301\n",
      "Dangerous percentage prediction on train set: 0.019417475728155338\n",
      "Dangerous percentage prediction on test set 0.06310679611650485\n"
     ]
    }
   ],
   "source": [
    "# Set a random seed for reproducibility\n",
    "np.random.seed(43)\n",
    "\n",
    "# Define the model (with a zero mean) and the likelihood\n",
    "# model_zero_mean =\n",
    "# likelihood_zero_mean =\n",
    "# YOUR CODE HERE\n",
    "model_zero_mean = SVGPModel(inducing_points, constant_mean=False)\n",
    "likelihood_zero_mean = gpytorch.likelihoods.GaussianLikelihood()\n",
    "\n",
    "model_zero_mean = model_zero_mean.double()\n",
    "likelihood_zero_mean = likelihood_zero_mean.double()\n",
    "\n",
    "# Call the function to train the variational parameters\n",
    "# YOUR CODE HERE\n",
    "train_variational_parameters(likelihood_zero_mean, model_zero_mean)\n",
    "\n",
    "# Call the function to evaluate the model\n",
    "# train_pred_zero_mean, test_pred_zero_mean =\n",
    "# YOUR CODE HERE\n",
    "train_pred_zero_mean, test_pred_zero_mean = evaluate_model(likelihood_zero_mean, model_zero_mean)"
   ]
  },
  {
   "cell_type": "markdown",
   "metadata": {
    "deletable": false,
    "editable": false,
    "nbgrader": {
     "cell_type": "markdown",
     "checksum": "98ece5c37100f0edc550022008dc644f",
     "grade": false,
     "grade_id": "cell-02030cafaad31dd1",
     "locked": true,
     "schema_version": 3,
     "solution": false,
     "task": false
    }
   },
   "source": [
    "## Task 3b.7 - Comparison of the two models (1p)\n",
    "Comment on the difference between the predictions of the two sparse GP models (i.e., the one with constant and zero mean). Discuss the effect of the mean function, in particular, on the safety of the predictions."
   ]
  },
  {
   "cell_type": "markdown",
   "metadata": {
    "deletable": false,
    "nbgrader": {
     "cell_type": "markdown",
     "checksum": "df3770672571ee1d1716bca3d394d417",
     "grade": true,
     "grade_id": "cell-92aa665e40398770",
     "locked": false,
     "points": 1,
     "schema_version": 3,
     "solution": true,
     "task": false
    }
   },
   "source": [
    "YOUR ANSWER HERE"
   ]
  }
 ],
 "metadata": {
  "kernelspec": {
   "display_name": "Python 3 (ipykernel)",
   "language": "python",
   "name": "python3"
  },
  "language_info": {
   "codemirror_mode": {
    "name": "ipython",
    "version": 3
   },
   "file_extension": ".py",
   "mimetype": "text/x-python",
   "name": "python",
   "nbconvert_exporter": "python",
   "pygments_lexer": "ipython3",
   "version": "3.11.4"
  }
 },
 "nbformat": 4,
 "nbformat_minor": 4
}
