{
 "cells": [
  {
   "cell_type": "markdown",
   "id": "ac408b5e",
   "metadata": {
    "deletable": false,
    "editable": false,
    "nbgrader": {
     "cell_type": "markdown",
     "checksum": "7619294def77410a539e618e2428f0d5",
     "grade": false,
     "grade_id": "cell-b00828259c8e42e8",
     "locked": true,
     "schema_version": 3,
     "solution": false,
     "task": false
    }
   },
   "source": [
    "# RO47019: Intelligent Control Systems Practical Assignment\n",
    "* Period: 2023-2024, Q3\n",
    "* Course homepage: https://brightspace.tudelft.nl/d2l/home/500969\n",
    "* Instructor: Cosimo Della Santina (C.DellaSantina@tudelft.nl)\n",
    "* Teaching assistant: Maria de Neves de Fonseca (M.deNevesdeFonseca-1@student.tudelft.nl)\n",
    "* (c) TU Delft, 2024\n",
    "\n",
    "Make sure you fill in any place that says `YOUR CODE HERE` or `YOUR ANSWER HERE`. Remove `raise NotImplementedError()` afterwards. Moreover, if you see an empty cell, please DO NOT delete it, instead run that cell as you would run all other cells. Please fill in your name(s) and other required details below:"
   ]
  },
  {
   "cell_type": "code",
   "execution_count": 1,
   "id": "4f9e220c",
   "metadata": {},
   "outputs": [],
   "source": [
    "# Please fill in your names, student numbers, netID, and emails below.\n",
    "STUDENT_1_NAME = \"timothy van den Heuvel\"\n",
    "STUDENT_1_STUDENT_NUMBER = \"5606403\"\n",
    "STUDENT_1_NETID = \"timvandenheuve\"\n",
    "STUDENT_1_EMAIL = \"t.j.vandenheuvel-1@student.tudelft.nl\""
   ]
  },
  {
   "cell_type": "code",
   "execution_count": 2,
   "id": "8ba32571",
   "metadata": {
    "deletable": false,
    "editable": false,
    "nbgrader": {
     "cell_type": "code",
     "checksum": "042927213b84aa368aa3ea72caa4cb60",
     "grade": true,
     "grade_id": "cell-9f148ec62e0de49c",
     "locked": true,
     "points": 0,
     "schema_version": 3,
     "solution": false,
     "task": false
    }
   },
   "outputs": [],
   "source": [
    "# Note: this block is a check that you have filled in the above information.\n",
    "# It will throw an AssertionError until all fields are filled\n",
    "assert STUDENT_1_NAME != \"\"\n",
    "assert STUDENT_1_STUDENT_NUMBER != \"\"\n",
    "assert STUDENT_1_NETID != \"\"\n",
    "assert STUDENT_1_EMAIL != \"\""
   ]
  },
  {
   "cell_type": "markdown",
   "id": "af317a94",
   "metadata": {
    "deletable": false,
    "editable": false,
    "nbgrader": {
     "cell_type": "markdown",
     "checksum": "95c5b11f9ac3896252d342cabb38d867",
     "grade": false,
     "grade_id": "cell-4ea391677951116c",
     "locked": true,
     "schema_version": 3,
     "solution": false,
     "task": false
    }
   },
   "source": [
    "### General announcements\n",
    "\n",
    "* Do *not* share your solutions (also after the course is finished), and do *not* copy solutions from others. By submitting your solutions, you claim that you alone are responsible for this code.\n",
    "\n",
    "* Do *not* email questions directly, since we want to provide everybody with the same information and avoid repeating the same answers. Instead, please post your questions regarding this assignment in the correct support forum on Brightspace, this way everybody can benefit from the response. If you do have a particular question that you want to ask directly, please use the scheduled Q&A hours to ask the TA.\n",
    "\n",
    "* There is a strict deadline for each assignment. Students are responsible to ensure that they have uploaded their work in time. So, please double check that your upload succeeded to the Brightspace and avoid any late penalties.\n",
    "\n",
    "* This [Jupyter notebook](https://jupyter.org/) uses `nbgrader` to help us with automated tests. `nbgrader` will make various cells in this notebook \"uneditable\" or \"unremovable\" and gives them a special id in the cell metadata. This way, when we run our checks, the system will check the existence of the cell ids and verify the number of points and which checks must be run. While there are ways that you can edit the metadata and work around the restrictions to delete or modify these special cells, you should not do that since then our nbgrader backend will not be able to parse your notebook and give you points for the assignment. You are free to add additional cells, but if you find a cell that you cannot modify or remove, please know that this is on purpose.\n",
    "\n",
    "* This notebook will have in various places a line that throws a `NotImplementedError` exception. These are locations where the assignment requires you to adapt the code! These lines are just there as a reminder for you that you have not yet adapted that particular piece of code, especially when you execute all the cells. Once your solution code replaced these lines, it should accordingly *not* throw any exceptions anymore.\n",
    "\n",
    "Before you turn this problem in, make sure everything runs as expected. First, **restart the kernel** (in the menubar, select Kernel$\\rightarrow$Restart) and then **run all cells** (in the menubar, select Cell$\\rightarrow$Run All)."
   ]
  },
  {
   "cell_type": "code",
   "execution_count": null,
   "id": "3c956945",
   "metadata": {},
   "outputs": [],
   "source": []
  },
  {
   "cell_type": "markdown",
   "metadata": {
    "deletable": false,
    "editable": false,
    "nbgrader": {
     "cell_type": "markdown",
     "checksum": "a29dd387c402d3428f4cfdae33fc86cc",
     "grade": false,
     "grade_id": "cell-09ee0d8744e5ae05",
     "locked": true,
     "schema_version": 3,
     "solution": false,
     "task": false
    }
   },
   "source": [
    "# Task 3b - Familiarization with Multi-Input Single output GPs (5p) (Bonus)\n",
    "**Authors:** Giovanni Franzese (G.Franzese@tudelft.nl), Lorenzo Lyons (L.Lyons@tudelft.nl)"
   ]
  },
  {
   "cell_type": "code",
   "execution_count": 3,
   "metadata": {
    "deletable": false,
    "editable": false,
    "nbgrader": {
     "cell_type": "code",
     "checksum": "580d23f30196d59b4f4026cd53525f23",
     "grade": false,
     "grade_id": "cell-ba3273c841494da7",
     "locked": true,
     "schema_version": 3,
     "solution": false,
     "task": false
    }
   },
   "outputs": [],
   "source": [
    "import gpytorch\n",
    "from gpytorch.models import ApproximateGP\n",
    "from gpytorch.variational import CholeskyVariationalDistribution\n",
    "from gpytorch.variational import VariationalStrategy\n",
    "import matplotlib.pyplot as plt\n",
    "from matplotlib.widgets import Slider\n",
    "import numpy as np\n",
    "import pandas as pd\n",
    "from pathlib import Path\n",
    "import torch\n",
    "from torch.utils.data import TensorDataset, DataLoader\n",
    "from tqdm.notebook import tqdm  # progress bar\n",
    "\n",
    "# define folder where to save animations and plots\n",
    "outputs_dir = Path(\"outputs\")\n",
    "outputs_dir.mkdir(parents=True, exist_ok=True)"
   ]
  },
  {
   "cell_type": "markdown",
   "metadata": {
    "deletable": false,
    "editable": false,
    "nbgrader": {
     "cell_type": "markdown",
     "checksum": "e83e0ef63ba046a0f3056ff765a0b1d1",
     "grade": false,
     "grade_id": "cell-a465b1b75d945b2b",
     "locked": true,
     "schema_version": 3,
     "solution": false,
     "task": false
    }
   },
   "source": [
    "## Task 3b.1 - Load the dataset with concrete data (0p)"
   ]
  },
  {
   "cell_type": "code",
   "execution_count": 4,
   "metadata": {
    "deletable": false,
    "editable": false,
    "nbgrader": {
     "cell_type": "code",
     "checksum": "3ff58139f3f2857e51d8ca4a032ea0a8",
     "grade": false,
     "grade_id": "cell-c30144953f9790f1",
     "locked": true,
     "schema_version": 3,
     "solution": false,
     "task": false
    }
   },
   "outputs": [
    {
     "data": {
      "text/html": [
       "<div>\n",
       "<style scoped>\n",
       "    .dataframe tbody tr th:only-of-type {\n",
       "        vertical-align: middle;\n",
       "    }\n",
       "\n",
       "    .dataframe tbody tr th {\n",
       "        vertical-align: top;\n",
       "    }\n",
       "\n",
       "    .dataframe thead th {\n",
       "        text-align: right;\n",
       "    }\n",
       "</style>\n",
       "<table border=\"1\" class=\"dataframe\">\n",
       "  <thead>\n",
       "    <tr style=\"text-align: right;\">\n",
       "      <th></th>\n",
       "      <th>Cement (component 1)(kg in a m^3 mixture)</th>\n",
       "      <th>Blast Furnace Slag (component 2)(kg in a m^3 mixture)</th>\n",
       "      <th>Fly Ash (component 3)(kg in a m^3 mixture)</th>\n",
       "      <th>Water  (component 4)(kg in a m^3 mixture)</th>\n",
       "      <th>Superplasticizer (component 5)(kg in a m^3 mixture)</th>\n",
       "      <th>Coarse Aggregate  (component 6)(kg in a m^3 mixture)</th>\n",
       "      <th>Fine Aggregate (component 7)(kg in a m^3 mixture)</th>\n",
       "      <th>Age (day)</th>\n",
       "      <th>Concrete compressive strength(MPa, megapascals)</th>\n",
       "    </tr>\n",
       "  </thead>\n",
       "  <tbody>\n",
       "    <tr>\n",
       "      <th>0</th>\n",
       "      <td>540.0</td>\n",
       "      <td>0.0</td>\n",
       "      <td>0.0</td>\n",
       "      <td>162.0</td>\n",
       "      <td>2.5</td>\n",
       "      <td>1040.0</td>\n",
       "      <td>676.0</td>\n",
       "      <td>28</td>\n",
       "      <td>79.99</td>\n",
       "    </tr>\n",
       "    <tr>\n",
       "      <th>1</th>\n",
       "      <td>540.0</td>\n",
       "      <td>0.0</td>\n",
       "      <td>0.0</td>\n",
       "      <td>162.0</td>\n",
       "      <td>2.5</td>\n",
       "      <td>1055.0</td>\n",
       "      <td>676.0</td>\n",
       "      <td>28</td>\n",
       "      <td>61.89</td>\n",
       "    </tr>\n",
       "    <tr>\n",
       "      <th>2</th>\n",
       "      <td>332.5</td>\n",
       "      <td>142.5</td>\n",
       "      <td>0.0</td>\n",
       "      <td>228.0</td>\n",
       "      <td>0.0</td>\n",
       "      <td>932.0</td>\n",
       "      <td>594.0</td>\n",
       "      <td>270</td>\n",
       "      <td>40.27</td>\n",
       "    </tr>\n",
       "    <tr>\n",
       "      <th>3</th>\n",
       "      <td>332.5</td>\n",
       "      <td>142.5</td>\n",
       "      <td>0.0</td>\n",
       "      <td>228.0</td>\n",
       "      <td>0.0</td>\n",
       "      <td>932.0</td>\n",
       "      <td>594.0</td>\n",
       "      <td>365</td>\n",
       "      <td>41.05</td>\n",
       "    </tr>\n",
       "    <tr>\n",
       "      <th>4</th>\n",
       "      <td>198.6</td>\n",
       "      <td>132.4</td>\n",
       "      <td>0.0</td>\n",
       "      <td>192.0</td>\n",
       "      <td>0.0</td>\n",
       "      <td>978.4</td>\n",
       "      <td>825.5</td>\n",
       "      <td>360</td>\n",
       "      <td>44.30</td>\n",
       "    </tr>\n",
       "  </tbody>\n",
       "</table>\n",
       "</div>"
      ],
      "text/plain": [
       "   Cement (component 1)(kg in a m^3 mixture)  \\\n",
       "0                                      540.0   \n",
       "1                                      540.0   \n",
       "2                                      332.5   \n",
       "3                                      332.5   \n",
       "4                                      198.6   \n",
       "\n",
       "   Blast Furnace Slag (component 2)(kg in a m^3 mixture)  \\\n",
       "0                                                0.0       \n",
       "1                                                0.0       \n",
       "2                                              142.5       \n",
       "3                                              142.5       \n",
       "4                                              132.4       \n",
       "\n",
       "   Fly Ash (component 3)(kg in a m^3 mixture)  \\\n",
       "0                                         0.0   \n",
       "1                                         0.0   \n",
       "2                                         0.0   \n",
       "3                                         0.0   \n",
       "4                                         0.0   \n",
       "\n",
       "   Water  (component 4)(kg in a m^3 mixture)  \\\n",
       "0                                      162.0   \n",
       "1                                      162.0   \n",
       "2                                      228.0   \n",
       "3                                      228.0   \n",
       "4                                      192.0   \n",
       "\n",
       "   Superplasticizer (component 5)(kg in a m^3 mixture)  \\\n",
       "0                                                2.5     \n",
       "1                                                2.5     \n",
       "2                                                0.0     \n",
       "3                                                0.0     \n",
       "4                                                0.0     \n",
       "\n",
       "   Coarse Aggregate  (component 6)(kg in a m^3 mixture)  \\\n",
       "0                                             1040.0      \n",
       "1                                             1055.0      \n",
       "2                                              932.0      \n",
       "3                                              932.0      \n",
       "4                                              978.4      \n",
       "\n",
       "   Fine Aggregate (component 7)(kg in a m^3 mixture)  Age (day)  \\\n",
       "0                                              676.0         28   \n",
       "1                                              676.0         28   \n",
       "2                                              594.0        270   \n",
       "3                                              594.0        365   \n",
       "4                                              825.5        360   \n",
       "\n",
       "   Concrete compressive strength(MPa, megapascals)   \n",
       "0                                             79.99  \n",
       "1                                             61.89  \n",
       "2                                             40.27  \n",
       "3                                             41.05  \n",
       "4                                             44.30  "
      ]
     },
     "execution_count": 4,
     "metadata": {},
     "output_type": "execute_result"
    }
   ],
   "source": [
    "data = pd.read_csv(Path(\"datasets\") / \"Concrete_Data.csv\")\n",
    "data.head()"
   ]
  },
  {
   "cell_type": "markdown",
   "metadata": {
    "deletable": false,
    "editable": false,
    "nbgrader": {
     "cell_type": "markdown",
     "checksum": "06c5e2b7505739407c82ae714b414efa",
     "grade": false,
     "grade_id": "cell-de085ea88ff5f270",
     "locked": true,
     "schema_version": 3,
     "solution": false,
     "task": false
    }
   },
   "source": [
    "In this task, we will use the dataset with concrete data. The dataset is available in the file `concrete_data.csv`. The dataset contains 8 input variables and 1 output variable. The input variables are Cement, Blast Furnace Slag, Fly Ash, Water, Superplasticizer, Coarse Aggregate, Fine Aggregate, and Age. The output variable is the compressive strength of the concrete. \n",
    "We want to use a Gaussian Process to model the compressive strength of the concrete as a function of the other variables. Such a model can be useful in designing concrete mixtures or predicting the strength given the mixture properties. \n",
    "Let's divide the dataset into the training (80 %) and test (20 %) sets. We also initialize the 300 inducing points as randomly selected from the training set."
   ]
  },
  {
   "cell_type": "code",
   "execution_count": 5,
   "metadata": {
    "deletable": false,
    "editable": false,
    "nbgrader": {
     "cell_type": "code",
     "checksum": "a3920ba44548f7130d30a6376320fdda",
     "grade": false,
     "grade_id": "cell-e6817cbb93d174b4",
     "locked": true,
     "schema_version": 3,
     "solution": false,
     "task": false
    }
   },
   "outputs": [],
   "source": [
    "# Extract X and Y from the dataframe and convert to numpy arrays\n",
    "data_numpy = data.to_numpy()\n",
    "X = data_numpy[:, :-1]\n",
    "Y = data_numpy[:, -1]\n",
    "\n",
    "# Assuming X and Y are your features and labels, respectively\n",
    "# Let's say you have 80% of the data for training and 20% for testing\n",
    "\n",
    "# Set a random seed for reproducibility\n",
    "np.random.seed(42)\n",
    "\n",
    "# Get the number of samples in your dataset\n",
    "num_samples = len(X)\n",
    "\n",
    "# Define the percentage split\n",
    "train_percentage = 0.8\n",
    "\n",
    "# Calculate the number of samples for training\n",
    "num_train_samples = int(train_percentage * num_samples)\n",
    "\n",
    "# Generate random indices for the training set\n",
    "train_indices = np.random.choice(num_samples, num_train_samples, replace=False)\n",
    "\n",
    "# Use the remaining indices for the test set\n",
    "test_indices = np.setdiff1d(np.arange(num_samples), train_indices)\n",
    "\n",
    "# Split the data based on the generated indices\n",
    "train_x, train_y = X[train_indices], Y[train_indices]\n",
    "test_x, test_y = X[test_indices], Y[test_indices]\n",
    "\n",
    "# create the training dataloader\n",
    "train_x_torch = torch.from_numpy(train_x).double()\n",
    "train_y_torch = torch.from_numpy(train_y).double()\n",
    "train_dataset = TensorDataset(train_x_torch, train_y_torch)\n",
    "train_loader = DataLoader(train_dataset, batch_size=256, shuffle=True)\n",
    "\n",
    "# pick inducing points randomly from the training data\n",
    "num_inducing_points = 300\n",
    "inducing_points_index = np.random.choice(\n",
    "    num_train_samples, num_inducing_points, replace=False\n",
    ")\n",
    "inducing_points = torch.from_numpy(train_x[inducing_points_index, :]).double()"
   ]
  },
  {
   "cell_type": "markdown",
   "metadata": {
    "deletable": false,
    "editable": false,
    "nbgrader": {
     "cell_type": "markdown",
     "checksum": "fe9f2ec162952480bf5e187e493417ba",
     "grade": false,
     "grade_id": "cell-35010650535c774e",
     "locked": true,
     "schema_version": 3,
     "solution": false,
     "task": false
    }
   },
   "source": [
    "## Task 3b.2 - Construct a Sparse Gaussian Process with Multiple-Input Single Output (0.5p)\n",
    "Choose the Zero mean or the constant mean according to the if/else statement of the class. Choose the kernel to be an RBF kernel with ARD (0.5p). In GPytorch, the ARD is implemented by setting the `ard_num_dims` parameter of the kernel to the number of input features."
   ]
  },
  {
   "cell_type": "code",
   "execution_count": 6,
   "metadata": {
    "deletable": false,
    "nbgrader": {
     "cell_type": "code",
     "checksum": "d06bca671c5fb28b5452b59952d11d74",
     "grade": true,
     "grade_id": "cell-7665366ef6109e2e",
     "locked": false,
     "points": 0.5,
     "schema_version": 3,
     "solution": true,
     "task": false
    }
   },
   "outputs": [],
   "source": [
    "class SVGPModel(ApproximateGP):\n",
    "    def __init__(self, inducing_points, constant_mean=False):\n",
    "        variational_distribution = CholeskyVariationalDistribution(\n",
    "            inducing_points.size(0)\n",
    "        )\n",
    "        variational_strategy = VariationalStrategy(\n",
    "            self,\n",
    "            inducing_points,\n",
    "            variational_distribution,\n",
    "            learn_inducing_locations=True,\n",
    "        )\n",
    "        super(SVGPModel, self).__init__(variational_strategy)\n",
    "        if constant_mean:\n",
    "            # self.mean_module =\n",
    "            # YOUR CODE HERE\n",
    "            self.mean_module = gpytorch.means.ConstantMean()\n",
    "        else:  # Zero mean\n",
    "            # self.mean_module =\n",
    "            # YOUR CODE HERE\n",
    "            self.mean_module = gpytorch.means.ZeroMean()\n",
    "\n",
    "        # Use a RBF kernel with automatic relevance determination (ARD)\n",
    "        # YOUR CODE HERE\n",
    "        self.covar_module = gpytorch.kernels.ScaleKernel(gpytorch.kernels.RBFKernel(ard_num_dims=8))\n",
    "        #self.covar_module = ScaleKernel(RBFKernel(ard_num_dims=inducing_points.size(1)))\n",
    "\n",
    "    def forward(self, x):\n",
    "        mean_x = self.mean_module(x)\n",
    "        covar_x = self.covar_module(x)\n",
    "        return gpytorch.distributions.MultivariateNormal(mean_x, covar_x)"
   ]
  },
  {
   "cell_type": "markdown",
   "metadata": {
    "deletable": false,
    "editable": false,
    "nbgrader": {
     "cell_type": "markdown",
     "checksum": "781d0feb35104574353616828c2cbf53",
     "grade": false,
     "grade_id": "cell-fb812c2182ac28c5",
     "locked": true,
     "schema_version": 3,
     "solution": false,
     "task": false
    }
   },
   "source": [
    "## Task 3b.3 - Design a function for training the variational parameters (0.5p)\n",
    "Correctly define the marginal log-likelihood, considering our model is an approximate SVGP."
   ]
  },
  {
   "cell_type": "code",
   "execution_count": 7,
   "metadata": {
    "deletable": false,
    "nbgrader": {
     "cell_type": "code",
     "checksum": "c81553f91a33975edd902da0b6b55ecd",
     "grade": true,
     "grade_id": "cell-10b461dbe4e562bc",
     "locked": false,
     "points": 0.5,
     "schema_version": 3,
     "solution": true,
     "task": false
    }
   },
   "outputs": [],
   "source": [
    "def train_variational_parameters(likelihood, model, num_epochs: int = 2000):\n",
    "    optimizer = torch.optim.Adam(\n",
    "        [\n",
    "            {\"params\": model.parameters()},\n",
    "            {\"params\": likelihood.parameters()},\n",
    "        ],\n",
    "        lr=0.01,\n",
    "    )\n",
    "\n",
    "    # Our loss object. We're using the VariationalELBO\n",
    "    # mll =\n",
    "    # YOUR CODE HERE\n",
    "    #gpytorch.mlls.VariationalELBO(likelihood, model, num_data=train_y.size(0))\n",
    "    mll = gpytorch.mlls.VariationalELBO(likelihood, model, num_data=len(train_loader.dataset))\n",
    "\n",
    "    model.train()\n",
    "    likelihood.train()\n",
    "    for i in tqdm(range(num_epochs)):\n",
    "        # Within each iteration, we will go over each minibatch of data\n",
    "        for x_batch, y_batch in train_loader:\n",
    "            optimizer.zero_grad()\n",
    "            output = model(x_batch)\n",
    "            loss = -mll(output, y_batch)\n",
    "            loss.backward()\n",
    "            optimizer.step()"
   ]
  },
  {
   "cell_type": "markdown",
   "metadata": {
    "deletable": false,
    "editable": false,
    "nbgrader": {
     "cell_type": "markdown",
     "checksum": "18add06b55c8efd7bb6d7c9a7c63b533",
     "grade": false,
     "grade_id": "cell-f615d3eafce743e1",
     "locked": true,
     "schema_version": 3,
     "solution": false,
     "task": false
    }
   },
   "source": [
    "## Task 3b.4 - Define a function for evaluating the model and computing metrics (1.5p)\n",
    "When we predict the strength of a material, the absolute error is not the only metric we are interested in. We are going also to compute the accuracy of the model. We consider the prediction correct if the absolute error is less than two times the standard deviation, considering that the GP is a probabilistic model. Moreover, we are interested in quantifying the percentage of dangerous predictions. We consider a prediction dangerous if the model's lower confidence bound, i.e., the prediction minus two standard deviations, is higher than the actual value. This means that if the engineers use the lower confidence bound as a safety value for the strength of the material, they are still overestimating the strength, which may lead to undesired failures.\n",
    "\n",
    "\n",
    "Compute the following metrics.\n",
    "- Mean Absolute Error (MAE) on the train set\n",
    "- Mean Absolute Error (MAE) on the test set\n",
    "- Accuracy of the model on the train set (consider the prediction as correct if the absolute error is less than two times the standard deviation)\n",
    "- Accuracy of the model on the test set (consider the prediction as correct if the absolute error is less than two times the standard deviation)\n",
    "- Quantify the percentage of dangerous prediction, i.e., the prediction minus two standard deviations is higher than the actual value on the train set. \n",
    "- Quantify the percentage of dangerous prediction, i.e., the prediction minus two standard deviations is higher than the actual value, on the test set\n"
   ]
  },
  {
   "cell_type": "code",
   "execution_count": 8,
   "metadata": {
    "deletable": false,
    "nbgrader": {
     "cell_type": "code",
     "checksum": "a2d47e266d658db7902ff7e698ffd867",
     "grade": true,
     "grade_id": "cell-d857b199bf25d735",
     "locked": false,
     "points": 1.5,
     "schema_version": 3,
     "solution": true,
     "task": false
    }
   },
   "outputs": [],
   "source": [
    "def evaluate_model(likelihood, model):\n",
    "    # Get into evaluation (predictive posterior) mode\n",
    "    model.eval()\n",
    "    likelihood.eval()\n",
    "\n",
    "    # Evaluate the model on the test data\n",
    "    with torch.no_grad(), gpytorch.settings.fast_pred_var():\n",
    "        test_x_torch = torch.from_numpy(test_x).double()\n",
    "        test_y_torch = torch.from_numpy(test_y).double()\n",
    "\n",
    "        train_pred = likelihood(model(train_x_torch))\n",
    "        test_pred = likelihood(model(test_x_torch))\n",
    "\n",
    "        # YOUR CODE HERE\n",
    "        mae_train = torch.mean(torch.abs(train_pred.mean - train_y_torch))\n",
    "        mae_test = torch.mean(torch.abs(test_pred.mean - test_y_torch))\n",
    "        train_std = train_pred.stddev\n",
    "        test_std = test_pred.stddev\n",
    "\n",
    "        \n",
    "        correct_train = torch.abs(train_pred.mean - train_y_torch) < (2 * train_std)\n",
    "        accuracy_train = torch.sum(correct_train).item() / len(correct_train)\n",
    "\n",
    "        \n",
    "        correct_test = torch.abs(test_pred.mean - test_y_torch) < (2 * test_std)\n",
    "        accuracy_test = torch.sum(correct_test).item() / len(correct_test)\n",
    "\n",
    "        \n",
    "        dangerous_prediction_train = torch.sum(\n",
    "            train_pred.mean - (2 * train_std) > train_y_torch\n",
    "        ).item() / len(train_y)\n",
    "\n",
    "    \n",
    "        dangerous_prediction_test = torch.sum(\n",
    "            test_pred.mean - (2 * test_std) > test_y_torch\n",
    "        ).item() / len(test_y)\n",
    "\n",
    "\n",
    "\n",
    "\n",
    "        print(f\"MAE on train set: {mae_train}\")\n",
    "        print(f\"MAE on test set: {mae_test}\")\n",
    "        print(f\"Accuracy on train set: {accuracy_train}\")\n",
    "        print(f\"Accuracy on test set: {accuracy_test}\")\n",
    "        print(\n",
    "            f\"Dangerous percentage prediction on train set: {dangerous_prediction_train}\"\n",
    "        )\n",
    "        print(\n",
    "            f\"Dangerous percentage prediction on test set {dangerous_prediction_test}\"\n",
    "        )\n",
    "\n",
    "        return train_pred, test_pred"
   ]
  },
  {
   "cell_type": "markdown",
   "metadata": {
    "deletable": false,
    "editable": false,
    "nbgrader": {
     "cell_type": "markdown",
     "checksum": "123e14c4765b46036359d36b8afb2abe",
     "grade": false,
     "grade_id": "cell-b78bf3bbaee489d2",
     "locked": true,
     "schema_version": 3,
     "solution": false,
     "task": false
    }
   },
   "source": [
    "## Task 3b.5 - Train and evaluate the `SVGPModel` with a constant mean (2.5)\n",
    "### Task 3b.5.1 - Initialize a constant mean model and the Gaussian Likelihood (0.5p)"
   ]
  },
  {
   "cell_type": "code",
   "execution_count": 9,
   "metadata": {
    "deletable": false,
    "nbgrader": {
     "cell_type": "code",
     "checksum": "6329f21e03fadc9c0f387969c5eaa6dd",
     "grade": true,
     "grade_id": "cell-ce838438be8fda36",
     "locked": false,
     "points": 0.5,
     "schema_version": 3,
     "solution": true,
     "task": false
    }
   },
   "outputs": [
    {
     "data": {
      "application/vnd.jupyter.widget-view+json": {
       "model_id": "395e941727ae4db5a3715f53a637f86e",
       "version_major": 2,
       "version_minor": 0
      },
      "text/plain": [
       "  0%|          | 0/2000 [00:00<?, ?it/s]"
      ]
     },
     "metadata": {},
     "output_type": "display_data"
    }
   ],
   "source": [
    "# Set a random seed for reproducibility\n",
    "np.random.seed(43)\n",
    "\n",
    "# initialize the model\n",
    "# model_constant_mean =\n",
    "# likelihood_constant_mean =\n",
    "# YOUR CODE HERE\n",
    "#inducing_points = torch.tensor(your_inducing_points) \n",
    "model_constant_mean = SVGPModel(inducing_points, constant_mean=True)\n",
    "likelihood_constant_mean = gpytorch.likelihoods.GaussianLikelihood()\n",
    "\n",
    "model_constant_mean = model_constant_mean.double()\n",
    "likelihood_constant_mean = likelihood_constant_mean.double()\n",
    "\n",
    "# train the variational parameters\n",
    "train_variational_parameters(likelihood_constant_mean, model_constant_mean)"
   ]
  },
  {
   "cell_type": "markdown",
   "metadata": {
    "deletable": false,
    "editable": false,
    "nbgrader": {
     "cell_type": "markdown",
     "checksum": "554e780e22b08ee42ed16845103d6c84",
     "grade": false,
     "grade_id": "cell-cb961022f25dc296",
     "locked": true,
     "schema_version": 3,
     "solution": false,
     "task": false
    }
   },
   "source": [
    "### Task 3b.5.2 - Evaluate the model and print metrics (0.5p)"
   ]
  },
  {
   "cell_type": "code",
   "execution_count": 10,
   "metadata": {
    "deletable": false,
    "nbgrader": {
     "cell_type": "code",
     "checksum": "2e9fa364bedf41eb15b2c711ff72a6ec",
     "grade": true,
     "grade_id": "cell-6928ae580ad74ab9",
     "locked": false,
     "points": 0.5,
     "schema_version": 3,
     "solution": true,
     "task": false
    }
   },
   "outputs": [
    {
     "name": "stdout",
     "output_type": "stream",
     "text": [
      "MAE on train set: 3.417939016559898\n",
      "MAE on test set: 6.365684937272881\n",
      "Accuracy on train set: 0.9223300970873787\n",
      "Accuracy on test set: 0.7621359223300971\n",
      "Dangerous percentage prediction on train set: 0.013349514563106795\n",
      "Dangerous percentage prediction on test set 0.07766990291262135\n"
     ]
    }
   ],
   "source": [
    "# Call the function to evaluate the model\n",
    "# train_pred_constant_mean, test_pred_constant_mean =\n",
    "# YOUR CODE HERE\n",
    "train_pred_constant_mean, test_pred_constant_mean = evaluate_model(likelihood_constant_mean, model_constant_mean)"
   ]
  },
  {
   "cell_type": "markdown",
   "metadata": {
    "deletable": false,
    "editable": false,
    "nbgrader": {
     "cell_type": "markdown",
     "checksum": "67cfa98fc6dc441fa0668744768b1dda",
     "grade": false,
     "grade_id": "cell-c7e9855aaa27f18b",
     "locked": true,
     "schema_version": 3,
     "solution": false,
     "task": false
    }
   },
   "source": [
    "### Task 3b.5.3 - Print the horizontal and the vertical length scales, and the constant mean value (0.5p)"
   ]
  },
  {
   "cell_type": "code",
   "execution_count": 11,
   "metadata": {
    "deletable": false,
    "nbgrader": {
     "cell_type": "code",
     "checksum": "da023fd95f3f0bbeb169723d34e5acc6",
     "grade": true,
     "grade_id": "cell-b3f9a306950753b9",
     "locked": false,
     "points": 0.5,
     "schema_version": 3,
     "solution": true,
     "task": false
    }
   },
   "outputs": [
    {
     "name": "stdout",
     "output_type": "stream",
     "text": [
      "Horizontal Lenghtscale of the kernel: \n",
      "Horizontal lengthscales: tensor([[62.8860, 67.7688, 60.8021, 47.4450, 34.4068, 61.4879, 65.5871, 12.5570]],\n",
      "       dtype=torch.float64, grad_fn=<SoftplusBackward0>)\n",
      "Vertical Lengthscale of the kernel: \n",
      "Vertical lengthscales: Parameter containing:\n",
      "tensor(33.0382, dtype=torch.float64, requires_grad=True)\n",
      "Constant mean value: \n"
     ]
    },
    {
     "data": {
      "text/plain": [
       "24.075411146576517"
      ]
     },
     "execution_count": 11,
     "metadata": {},
     "output_type": "execute_result"
    }
   ],
   "source": [
    "print(\"Horizontal Lenghtscale of the kernel: \")\n",
    "# YOUR CODE HERE\n",
    "print(\"Horizontal lengthscales:\", model_constant_mean.covar_module.base_kernel.lengthscale)\n",
    "\n",
    "print(\"Vertical Lengthscale of the kernel: \")\n",
    "# YOUR CODE HERE\n",
    "print(\"Vertical lengthscales:\", model_constant_mean.covar_module.raw_outputscale)\n",
    "\n",
    "print(\"Constant mean value: \")\n",
    "# YOUR CODE HERE\n",
    "model_constant_mean.mean_module.constant.item()\n"
   ]
  },
  {
   "cell_type": "markdown",
   "metadata": {
    "deletable": false,
    "editable": false,
    "nbgrader": {
     "cell_type": "markdown",
     "checksum": "d5d7143b46d52e07193e554c30a5061b",
     "grade": false,
     "grade_id": "cell-e1d1af24aca2a8ae",
     "locked": true,
     "schema_version": 3,
     "solution": false,
     "task": false
    }
   },
   "source": [
    "### Task 3b.5.4 - Plot the predictions on the test set (0p)"
   ]
  },
  {
   "cell_type": "code",
   "execution_count": 12,
   "metadata": {
    "deletable": false,
    "editable": false,
    "nbgrader": {
     "cell_type": "code",
     "checksum": "df8194c155aeca0ffef1b306943a0601",
     "grade": false,
     "grade_id": "cell-3da8dc9038b9d08e",
     "locked": true,
     "schema_version": 3,
     "solution": false,
     "task": false
    }
   },
   "outputs": [
    {
     "data": {
      "application/vnd.jupyter.widget-view+json": {
       "model_id": "08e853984f0a41c58bd3b1e2d1bf8c60",
       "version_major": 2,
       "version_minor": 0
      },
      "image/png": "[encoded data removed]",
      "text/html": [
       "\n",
       "            <div style=\"display: inline-block;\">\n",
       "                <div class=\"jupyter-widgets widget-label\" style=\"text-align: center;\">\n",
       "                    Figure\n",
       "                </div>\n",
       "                <img src='data:image/png;base64,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' width=640.0/>\n",
       "            </div>\n",
       "        "
      ],
      "text/plain": [
       "Canvas(toolbar=Toolbar(toolitems=[('Home', 'Reset original view', 'home', 'home'), ('Back', 'Back to previous …"
      ]
     },
     "metadata": {},
     "output_type": "display_data"
    }
   ],
   "source": [
    "%matplotlib widget\n",
    "\n",
    "# Setting fig and ax variables as subplots()\n",
    "# function returns tuple(fig, ax)\n",
    "fig, ax = plt.subplots()\n",
    "\n",
    "# Adjust the bottom size according to the\n",
    "# requirement of the user\n",
    "plt.subplots_adjust(bottom=0.25)\n",
    "\n",
    "index = np.arange(test_y.shape[0])\n",
    "plt.errorbar(\n",
    "    index,\n",
    "    test_pred_constant_mean.mean.numpy(),\n",
    "    yerr=2 * test_pred_constant_mean.stddev.numpy(),\n",
    "    fmt=\"*\",\n",
    "    label=\"Predictions with uncertainty\",\n",
    ")\n",
    "plt.plot(index, test_y, \"o\", label=\"True values\")\n",
    "\n",
    "plt.title(\"Prediction on test set\")\n",
    "# Choose the Slider color\n",
    "slider_color = \"White\"\n",
    "\n",
    "# Set the axis and slider position in the plot\n",
    "axis_position = plt.axes([0.2, 0.1, 0.65, 0.03], facecolor=slider_color)\n",
    "slider_position = Slider(axis_position, \"Pos\", 0.1, 90.0)\n",
    "\n",
    "\n",
    "# update() function to change the graph when the\n",
    "# slider is in use\n",
    "def update(val):\n",
    "    pos = slider_position.val\n",
    "    ax.axis([pos, pos + 20, 0, 100])\n",
    "    fig.canvas.draw_idle()\n",
    "\n",
    "\n",
    "# update function called using on_changed() function\n",
    "slider_position.on_changed(update)\n",
    "\n",
    "# Display the plot\n",
    "plt.savefig(outputs_dir / \"task_3b-5-4_predictions_on_test_set.pdf\")\n",
    "plt.show()"
   ]
  },
  {
   "cell_type": "markdown",
   "metadata": {
    "deletable": false,
    "editable": false,
    "nbgrader": {
     "cell_type": "markdown",
     "checksum": "275857537168d718574ed30f01de75f3",
     "grade": false,
     "grade_id": "cell-bf8dca82183883b9",
     "locked": true,
     "schema_version": 3,
     "solution": false,
     "task": false
    }
   },
   "source": [
    "## Task 3b.6 - Train and evaluate the `SVGPModel` with zero mean (0p)"
   ]
  },
  {
   "cell_type": "code",
   "execution_count": 13,
   "metadata": {
    "deletable": false,
    "nbgrader": {
     "cell_type": "code",
     "checksum": "339f5041515ce08cec195743430d6a42",
     "grade": true,
     "grade_id": "cell-6b0ddd961eed0731",
     "locked": false,
     "points": 0,
     "schema_version": 3,
     "solution": true,
     "task": false
    }
   },
   "outputs": [
    {
     "data": {
      "application/vnd.jupyter.widget-view+json": {
       "model_id": "99eeb2fafe434329826d8adcf1ff074f",
       "version_major": 2,
       "version_minor": 0
      },
      "text/plain": [
       "  0%|          | 0/2000 [00:00<?, ?it/s]"
      ]
     },
     "metadata": {},
     "output_type": "display_data"
    },
    {
     "name": "stdout",
     "output_type": "stream",
     "text": [
      "MAE on train set: 3.4353574841700674\n",
      "MAE on test set: 6.953484097178246\n",
      "Accuracy on train set: 0.9235436893203883\n",
      "Accuracy on test set: 0.7912621359223301\n",
      "Dangerous percentage prediction on train set: 0.01699029126213592\n",
      "Dangerous percentage prediction on test set 0.05825242718446602\n"
     ]
    }
   ],
   "source": [
    "# Set a random seed for reproducibility\n",
    "np.random.seed(43)\n",
    "\n",
    "# Define the model (with a zero mean) and the likelihood\n",
    "# model_zero_mean =\n",
    "# likelihood_zero_mean =\n",
    "# YOUR CODE HERE\n",
    "model_zero_mean = SVGPModel(inducing_points, constant_mean=False)\n",
    "likelihood_zero_mean = gpytorch.likelihoods.GaussianLikelihood()\n",
    "\n",
    "model_zero_mean = model_zero_mean.double()\n",
    "likelihood_zero_mean = likelihood_zero_mean.double()\n",
    "\n",
    "# Call the function to train the variational parameters\n",
    "# YOUR CODE HERE\n",
    "train_variational_parameters(likelihood_zero_mean, model_zero_mean)\n",
    "\n",
    "# Call the function to evaluate the model\n",
    "# train_pred_zero_mean, test_pred_zero_mean =\n",
    "# YOUR CODE HERE\n",
    "train_pred_zero_mean, test_pred_zero_mean = evaluate_model(likelihood_zero_mean, model_zero_mean)"
   ]
  },
  {
   "cell_type": "markdown",
   "metadata": {
    "deletable": false,
    "editable": false,
    "nbgrader": {
     "cell_type": "markdown",
     "checksum": "98ece5c37100f0edc550022008dc644f",
     "grade": false,
     "grade_id": "cell-02030cafaad31dd1",
     "locked": true,
     "schema_version": 3,
     "solution": false,
     "task": false
    }
   },
   "source": [
    "## Task 3b.7 - Comparison of the two models (1p)\n",
    "Comment on the difference between the predictions of the two sparse GP models (i.e., the one with constant and zero mean). Discuss the effect of the mean function, in particular, on the safety of the predictions."
   ]
  },
  {
   "cell_type": "markdown",
   "metadata": {
    "deletable": false,
    "nbgrader": {
     "cell_type": "markdown",
     "checksum": "df3770672571ee1d1716bca3d394d417",
     "grade": true,
     "grade_id": "cell-92aa665e40398770",
     "locked": false,
     "points": 1,
     "schema_version": 3,
     "solution": true,
     "task": false
    }
   },
   "source": [
    "YOUR ANSWER HERE"
   ]
  }
 ],
 "metadata": {
  "kernelspec": {
   "display_name": "Python 3 (ipykernel)",
   "language": "python",
   "name": "python3"
  },
  "language_info": {
   "codemirror_mode": {
    "name": "ipython",
    "version": 3
   },
   "file_extension": ".py",
   "mimetype": "text/x-python",
   "name": "python",
   "nbconvert_exporter": "python",
   "pygments_lexer": "ipython3",
   "version": "3.11.4"
  }
 },
 "nbformat": 4,
 "nbformat_minor": 4
}
