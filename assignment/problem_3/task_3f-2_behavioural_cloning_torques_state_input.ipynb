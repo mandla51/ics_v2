{
 "cells": [
  {
   "cell_type": "markdown",
   "id": "ac408b5e",
   "metadata": {
    "deletable": false,
    "editable": false,
    "nbgrader": {
     "cell_type": "markdown",
     "checksum": "7619294def77410a539e618e2428f0d5",
     "grade": false,
     "grade_id": "cell-b00828259c8e42e8",
     "locked": true,
     "schema_version": 3,
     "solution": false,
     "task": false
    }
   },
   "source": [
    "# RO47019: Intelligent Control Systems Practical Assignment\n",
    "* Period: 2023-2024, Q3\n",
    "* Course homepage: https://brightspace.tudelft.nl/d2l/home/500969\n",
    "* Instructor: Cosimo Della Santina (C.DellaSantina@tudelft.nl)\n",
    "* Teaching assistant: Maria de Neves de Fonseca (M.deNevesdeFonseca-1@student.tudelft.nl)\n",
    "* (c) TU Delft, 2024\n",
    "\n",
    "Make sure you fill in any place that says `YOUR CODE HERE` or `YOUR ANSWER HERE`. Remove `raise NotImplementedError()` afterwards. Moreover, if you see an empty cell, please DO NOT delete it, instead run that cell as you would run all other cells. Please fill in your name(s) and other required details below:"
   ]
  },
  {
   "cell_type": "code",
   "execution_count": 1,
   "id": "4f9e220c",
   "metadata": {},
   "outputs": [],
   "source": [
    "# Please fill in your names, student numbers, netID, and emails below.\n",
    "STUDENT_1_NAME = \"timothy van den Heuvel\"\n",
    "STUDENT_1_STUDENT_NUMBER = \"5606403\"\n",
    "STUDENT_1_NETID = \"timvandenheuve\"\n",
    "STUDENT_1_EMAIL = \"t.j.vandenheuvel-1@student.tudelft.nl\""
   ]
  },
  {
   "cell_type": "code",
   "execution_count": 2,
   "id": "8ba32571",
   "metadata": {
    "deletable": false,
    "editable": false,
    "nbgrader": {
     "cell_type": "code",
     "checksum": "042927213b84aa368aa3ea72caa4cb60",
     "grade": true,
     "grade_id": "cell-9f148ec62e0de49c",
     "locked": true,
     "points": 0,
     "schema_version": 3,
     "solution": false,
     "task": false
    }
   },
   "outputs": [],
   "source": [
    "# Note: this block is a check that you have filled in the above information.\n",
    "# It will throw an AssertionError until all fields are filled\n",
    "assert STUDENT_1_NAME != \"\"\n",
    "assert STUDENT_1_STUDENT_NUMBER != \"\"\n",
    "assert STUDENT_1_NETID != \"\"\n",
    "assert STUDENT_1_EMAIL != \"\""
   ]
  },
  {
   "cell_type": "markdown",
   "id": "af317a94",
   "metadata": {
    "deletable": false,
    "editable": false,
    "nbgrader": {
     "cell_type": "markdown",
     "checksum": "95c5b11f9ac3896252d342cabb38d867",
     "grade": false,
     "grade_id": "cell-4ea391677951116c",
     "locked": true,
     "schema_version": 3,
     "solution": false,
     "task": false
    }
   },
   "source": [
    "### General announcements\n",
    "\n",
    "* Do *not* share your solutions (also after the course is finished), and do *not* copy solutions from others. By submitting your solutions, you claim that you alone are responsible for this code.\n",
    "\n",
    "* Do *not* email questions directly, since we want to provide everybody with the same information and avoid repeating the same answers. Instead, please post your questions regarding this assignment in the correct support forum on Brightspace, this way everybody can benefit from the response. If you do have a particular question that you want to ask directly, please use the scheduled Q&A hours to ask the TA.\n",
    "\n",
    "* There is a strict deadline for each assignment. Students are responsible to ensure that they have uploaded their work in time. So, please double check that your upload succeeded to the Brightspace and avoid any late penalties.\n",
    "\n",
    "* This [Jupyter notebook](https://jupyter.org/) uses `nbgrader` to help us with automated tests. `nbgrader` will make various cells in this notebook \"uneditable\" or \"unremovable\" and gives them a special id in the cell metadata. This way, when we run our checks, the system will check the existence of the cell ids and verify the number of points and which checks must be run. While there are ways that you can edit the metadata and work around the restrictions to delete or modify these special cells, you should not do that since then our nbgrader backend will not be able to parse your notebook and give you points for the assignment. You are free to add additional cells, but if you find a cell that you cannot modify or remove, please know that this is on purpose.\n",
    "\n",
    "* This notebook will have in various places a line that throws a `NotImplementedError` exception. These are locations where the assignment requires you to adapt the code! These lines are just there as a reminder for you that you have not yet adapted that particular piece of code, especially when you execute all the cells. Once your solution code replaced these lines, it should accordingly *not* throw any exceptions anymore.\n",
    "\n",
    "Before you turn this problem in, make sure everything runs as expected. First, **restart the kernel** (in the menubar, select Kernel$\\rightarrow$Restart) and then **run all cells** (in the menubar, select Cell$\\rightarrow$Run All)."
   ]
  },
  {
   "cell_type": "code",
   "execution_count": null,
   "id": "3c956945",
   "metadata": {},
   "outputs": [],
   "source": []
  },
  {
   "cell_type": "markdown",
   "metadata": {
    "deletable": false,
    "editable": false,
    "nbgrader": {
     "cell_type": "markdown",
     "checksum": "5458fcc36b9e681eb603a0969955e9f5",
     "grade": false,
     "grade_id": "cell-545578f526c85066",
     "locked": true,
     "schema_version": 3,
     "solution": false,
     "task": false
    }
   },
   "source": [
    "# Task 3f.2 - Behaviour cloning of feedback torques as a function of the robot state (position and velocity) (15p)\n",
    "**Authors:** Giovanni Franzese (G.Franzese@tudelft.nl), Lorenzo Lyons (L.Lyons@tudelft.nl), Maximilian Stölzle (M.W.Stolzle@tudelft.nl)\n",
    "\n",
    "Here, we consider a dataset consisting of robot configurations and velocity as the inputs and proportional feedback torques as the labels. The only difference with the previous task is that we are now learning a policy that takes as input the angle configuration and the angle velocity of the joint and predicts the torque that is necessary to reproduce the behavior of following the ellipse. \n"
   ]
  },
  {
   "cell_type": "code",
   "execution_count": 3,
   "metadata": {
    "deletable": false,
    "editable": false,
    "nbgrader": {
     "cell_type": "code",
     "checksum": "c03aee51295ca38657e008f9463ef620",
     "grade": false,
     "grade_id": "cell-a8538ac1ec5c0562",
     "locked": true,
     "schema_version": 3,
     "solution": false,
     "task": false
    }
   },
   "outputs": [
    {
     "name": "stderr",
     "output_type": "stream",
     "text": [
      "/tmp/ipykernel_80976/3909812992.py:20: DeprecationWarning: \n",
      "Pyarrow will become a required dependency of pandas in the next major release of pandas (pandas 3.0),\n",
      "(to allow more performant data types, such as the Arrow string type, and better interoperability with other libraries)\n",
      "but was not found to be installed on your system.\n",
      "If this would cause problems for you,\n",
      "please provide us feedback at https://github.com/pandas-dev/pandas/issues/54466\n",
      "        \n",
      "  import pandas as pd\n"
     ]
    }
   ],
   "source": [
    "# Reloads the python files outside of this notebook automatically\n",
    "%load_ext autoreload\n",
    "%autoreload 2\n",
    "\n",
    "# import all Python modules\n",
    "from distutils.util import strtobool\n",
    "from functools import partial\n",
    "import gpytorch\n",
    "from gpytorch.models import ApproximateGP\n",
    "from IPython.display import display, HTML  # For animations in the notebook\n",
    "from jax import config as jax_config\n",
    "\n",
    "jax_config.update(\"jax_platform_name\", \"cpu\")  # set default device to 'cpu'\n",
    "jax_config.update(\"jax_enable_x64\", True)  # double precision\n",
    "from jax import Array, random\n",
    "from jax import numpy as jnp\n",
    "from matplotlib import pyplot as plt\n",
    "import numpy as np\n",
    "import os\n",
    "import pandas as pd\n",
    "from pathlib import Path\n",
    "import sys\n",
    "import torch\n",
    "from torch.autograd.functional import jacobian\n",
    "from torch.utils.data import TensorDataset, DataLoader\n",
    "from tqdm.notebook import tqdm\n",
    "\n",
    "from jax_double_pendulum.dynamics import dynamical_matrices\n",
    "from jax_double_pendulum.motion_planning import (\n",
    "    generate_ellipse_trajectory,\n",
    "    ELLIPSE_PARAMS,\n",
    ")\n",
    "from jax_double_pendulum.robot_simulation import simulate_robot\n",
    "from jax_double_pendulum.robot_parameters import ROBOT_PARAMS\n",
    "from jax_double_pendulum.utils import normalize_link_angles\n",
    "from jax_double_pendulum.visualization import animate_robot\n",
    "\n",
    "from utils import (\n",
    "    generate_training_data,\n",
    "    plot_data,\n",
    ")\n",
    "\n",
    "# define boolean to check if the notebook is run for autograding\n",
    "AUTOGRADING = strtobool(os.environ.get(\"AUTOGRADING\", \"false\"))\n",
    "\n",
    "# define folder where to save animations and plots\n",
    "outputs_dir = Path(\"outputs\")\n",
    "outputs_dir.mkdir(parents=True, exist_ok=True)\n",
    "# define the path to the folder that contains the datasets\n",
    "datasets_dir = Path(\"datasets\")\n",
    "\n",
    "# import the feedforward gravity compensation controller from problem_2/controllers.ipynb\n",
    "sys.path.insert(0, Path.cwd().parent / \"problem_2\")\n",
    "from ipynb.fs.full.controllers import ctrl_ff_gravity_compensation\n",
    "\n",
    "# define simulation settings\n",
    "# define time steps\n",
    "sim_dt = 0.005\n",
    "sim_duration = 6.0\n",
    "t_ts = sim_dt * jnp.arange(int(sim_duration / sim_dt))\n",
    "\n",
    "# generate reference trajectory\n",
    "traj_ts = generate_ellipse_trajectory(\n",
    "    rp=ROBOT_PARAMS,\n",
    "    t_ts=t_ts,\n",
    "    **ELLIPSE_PARAMS,\n",
    ")"
   ]
  },
  {
   "cell_type": "markdown",
   "metadata": {
    "deletable": false,
    "editable": false,
    "nbgrader": {
     "cell_type": "markdown",
     "checksum": "7c760726da5e9ee6e0689e7e46fb7de3",
     "grade": false,
     "grade_id": "cell-9da6adddff176f84",
     "locked": true,
     "schema_version": 3,
     "solution": false,
     "task": false
    }
   },
   "source": [
    "## Task 3f.2.1 - Defining the GP model and setting up the training class (2p)\n",
    "### Create a GP model that will take the joint angles and velocities as inputs and predict the feedback torques. (1p)\n",
    "The robot angles have a periodicity of $2 \\pi$, so they require a periodic kernel. In contrast, the velocity has no periodicity so we can use a generic kernel, for example, the RBF kernel or the Matern kernel.\n",
    "To have two different kernels active in different dimensions, we can use the `Product` kernel and select which dimensions each kernel should act on."
   ]
  },
  {
   "cell_type": "markdown",
   "metadata": {
    "deletable": false,
    "editable": false,
    "nbgrader": {
     "cell_type": "markdown",
     "checksum": "60bb0b768720c372c3de6d5910dda19c",
     "grade": false,
     "grade_id": "cell-9e276520dbb1cf7c",
     "locked": true,
     "schema_version": 3,
     "solution": false,
     "task": false
    }
   },
   "source": [
    "**Cheat sheet:**\n",
    "\n",
    "How to define the product of two kernels that are active on different dimensions for example, the first kernel is active on the first two dimensions, and the second kernel is active on the last two dimensions:\n",
    "```python\n",
    "kernel = gpytorch.kernels.Kernel(active_dims=[0, 1])) * gpytorch.kernels.Kernel(active_dims=[2, 3])\n",
    "```"
   ]
  },
  {
   "cell_type": "code",
   "execution_count": 5,
   "metadata": {
    "deletable": false,
    "nbgrader": {
     "cell_type": "code",
     "checksum": "c5856be77967000ccb0988333c34324c",
     "grade": true,
     "grade_id": "cell-0071a64b08cc83bf",
     "locked": false,
     "points": 1,
     "schema_version": 3,
     "solution": true,
     "task": false
    }
   },
   "outputs": [],
   "source": [
    "class MultitaskGPModel(ApproximateGP):\n",
    "    def __init__(self, num_tasks, inducing_points):\n",
    "        variational_distribution = gpytorch.variational.CholeskyVariationalDistribution(\n",
    "            inducing_points.size(-2), batch_shape=torch.Size([num_tasks])\n",
    "        )\n",
    "\n",
    "        variational_strategy = (\n",
    "            gpytorch.variational.IndependentMultitaskVariationalStrategy(\n",
    "                gpytorch.variational.VariationalStrategy(\n",
    "                    self,\n",
    "                    inducing_points,\n",
    "                    variational_distribution,\n",
    "                    learn_inducing_locations=True,\n",
    "                ),\n",
    "                num_tasks=num_tasks,\n",
    "                task_dim=-1,\n",
    "            )\n",
    "        )\n",
    "\n",
    "        super().__init__(variational_strategy)\n",
    "\n",
    "        self.mean_module = gpytorch.means.ZeroMean(batch_shape=torch.Size([num_tasks]))\n",
    "\n",
    "        # self.covar_module = gpytorch.kernels.ScaleKernel(Periodic * Matern)))\n",
    "        # YOUR CODE HERE\n",
    "        self.covar_module = (\n",
    "            gpytorch.kernels.ScaleKernel(\n",
    "                gpytorch.kernels.PeriodicKernel(active_dims=[0, 1])\n",
    "            )\n",
    "            * gpytorch.kernels.MaternKernel(active_dims=[2, 3])\n",
    "        )\n",
    "\n",
    "    def forward(self, x):\n",
    "        mean_x = self.mean_module(x)\n",
    "        covar_x = self.covar_module(x)\n",
    "        return gpytorch.distributions.MultivariateNormal(mean_x, covar_x)"
   ]
  },
  {
   "cell_type": "markdown",
   "metadata": {
    "deletable": false,
    "editable": false,
    "nbgrader": {
     "cell_type": "markdown",
     "checksum": "566a52a4516435ee729fe94ef4278379",
     "grade": false,
     "grade_id": "cell-4fbd8c0908b925c6",
     "locked": true,
     "schema_version": 3,
     "solution": false,
     "task": false
    }
   },
   "source": [
    "### Initialize the GP and the likelihood inside the `ControllerModel` class. (1p)"
   ]
  },
  {
   "cell_type": "code",
   "execution_count": 6,
   "metadata": {
    "deletable": false,
    "nbgrader": {
     "cell_type": "code",
     "checksum": "770902d35dd8365c10ee079466f3fc33",
     "grade": true,
     "grade_id": "cell-a185904ffbf1bc3b",
     "locked": false,
     "points": 1,
     "schema_version": 3,
     "solution": true,
     "task": false
    }
   },
   "outputs": [],
   "source": [
    "class ControllerModel:\n",
    "    def __init__(self, X, Y, n_ind=100, batch_size=256):\n",
    "        self.X = X\n",
    "        self.Y = Y\n",
    "        self.input_features = X.shape[1]\n",
    "        self.output_dim = Y.shape[1]\n",
    "        # number of inducing points\n",
    "        unique_random_indices = torch.randperm(len(X))[:n_ind]\n",
    "        inducing_points = X[unique_random_indices]\n",
    "        self.inducing_points = inducing_points\n",
    "        self.batch_size = batch_size\n",
    "        self.is_cuda = False\n",
    "        self.rmse_loss_vec = np.array([])\n",
    "\n",
    "        # self.gp =\n",
    "        # self.likelihood =\n",
    "        # YOUR CODE HERE\n",
    "        self.gp = MultitaskGPModel(num_tasks=self.output_dim, inducing_points=self.inducing_points)\n",
    "        self.likelihood = gpytorch.likelihoods.MultitaskGaussianLikelihood(num_tasks=self.output_dim)\n",
    "\n",
    "\n",
    "    def to_cuda(self):\n",
    "        if torch.cuda.is_available():\n",
    "            self.gp = self.gp.cuda()\n",
    "            self.likelihood = self.likelihood.cuda()\n",
    "            self.X = self.X.cuda()\n",
    "            self.Y = self.Y.cuda()\n",
    "            self.is_cuda = True\n",
    "        else:\n",
    "            raise EnvironmentError(\"Cuda not available\")\n",
    "\n",
    "    def predict(self, x):\n",
    "        if self.is_cuda:\n",
    "            x = x.cuda()\n",
    "        return self.likelihood(self.gp(x))\n",
    "\n",
    "    def variance_fun(self, x):\n",
    "        predictions = self.gp(x)\n",
    "        return predictions.variance\n",
    "\n",
    "    def derivative_variance(self, x):\n",
    "        if self.is_cuda:\n",
    "            x = x.cuda()\n",
    "        jac = (\n",
    "            jacobian(self.variance_fun, x)\n",
    "            .detach()\n",
    "            .view(self.output_dim, self.input_features)\n",
    "        )  # shape: (num_outputs, num_features)\n",
    "        return jac\n",
    "\n",
    "    def train(self, num_epochs=400):\n",
    "        self.gp = self.gp.double()\n",
    "        self.likelihood = self.likelihood.double()\n",
    "        self.X = self.X.double()\n",
    "        self.Y = self.Y.double()\n",
    "        self.train_dataset = TensorDataset(self.X, self.Y)\n",
    "        self.train_loader = DataLoader(\n",
    "            self.train_dataset, batch_size=self.batch_size, shuffle=True\n",
    "        )\n",
    "        self.gp.train()\n",
    "        self.likelihood.train()\n",
    "\n",
    "        optimizer = torch.optim.Adam(\n",
    "            [\n",
    "                {\"params\": self.gp.parameters()},\n",
    "                {\"params\": self.likelihood.parameters()},\n",
    "            ],\n",
    "            lr=0.01,\n",
    "        )\n",
    "\n",
    "        # Our loss object. We're using the VariationalELBO\n",
    "        self.mll = gpytorch.mlls.VariationalELBO(\n",
    "            self.likelihood, self.gp, num_data=self.Y.size(0)\n",
    "        )\n",
    "\n",
    "        # to plot the loss function\n",
    "        self.rmse_loss_vec = np.zeros(num_epochs)\n",
    "\n",
    "        for i in tqdm(range(num_epochs)):\n",
    "            loss_sum = 0.0\n",
    "            for x_batch, y_batch in self.train_loader:\n",
    "                optimizer.zero_grad()\n",
    "                output = self.gp(x_batch)\n",
    "                loss = -self.mll(output, y_batch)\n",
    "                loss.backward()\n",
    "                optimizer.step()\n",
    "                loss_sum += loss.detach().cpu()\n",
    "            self.rmse_loss_vec[i] = (\n",
    "                torch.sqrt(loss_sum / len(self.train_loader)).detach().item()\n",
    "            )\n",
    "\n",
    "    def plot_convergence(self, filename: str):\n",
    "        fig = plt.figure()\n",
    "        ax = fig.add_subplot(111)\n",
    "        ax.plot(self.rmse_loss_vec, label=\"loss\")\n",
    "        ax.set_xlabel(\"Epochs\")\n",
    "        ax.set_ylabel(r\"Trainings RMSE for $\\hat{\\ddot{\\theta}}$ [rad/s^2]\")\n",
    "        plt.savefig(str(outputs_dir / filename))"
   ]
  },
  {
   "cell_type": "markdown",
   "metadata": {
    "deletable": false,
    "editable": false,
    "nbgrader": {
     "cell_type": "markdown",
     "checksum": "3d8d0640552a61901f49b047d0d1f9e1",
     "grade": false,
     "grade_id": "cell-4f8950a2144f16bc",
     "locked": true,
     "schema_version": 3,
     "solution": false,
     "task": false
    }
   },
   "source": [
    "## Task 3f.2.2 - Load the trajectory-following dataset (0p)\n",
    "Here, we load the dataset recorded in Task 3c.3. Namely, we extract the torques generated by the PD feedback controller when tracking the ellipse reference trajectory in conjunction with a gravity compensation feedforward term."
   ]
  },
  {
   "cell_type": "code",
   "execution_count": 7,
   "metadata": {
    "deletable": false,
    "editable": false,
    "nbgrader": {
     "cell_type": "code",
     "checksum": "dd59d7d81730d666d3126c98c8a011e3",
     "grade": false,
     "grade_id": "cell-cfb63d0fbaa329e8",
     "locked": true,
     "schema_version": 3,
     "solution": false,
     "task": false
    }
   },
   "outputs": [],
   "source": [
    "dataset_name = \"trajectory_high_gains_grav_comp\"\n",
    "df = pd.read_csv(datasets_dir / f\"{dataset_name}.csv\")\n",
    "\n",
    "input_columns = [\"th_ts_1\", \"th_ts_2_rel\", \"th_d_ts_1\", \"th_d_ts_2_rel\"]\n",
    "output_columns = [\"tau_fb_ts_1\", \"tau_fb_ts_2\"]\n",
    "\n",
    "# assemble tensors for training\n",
    "X_feedback_torque, Y_feedback_torque = generate_training_data(\n",
    "    df, input_columns, output_columns\n",
    ")"
   ]
  },
  {
   "cell_type": "markdown",
   "metadata": {
    "deletable": false,
    "editable": false,
    "nbgrader": {
     "cell_type": "markdown",
     "checksum": "8940a3de589769e64fc6cab597a379ba",
     "grade": false,
     "grade_id": "cell-15d50386cd80809b",
     "locked": true,
     "schema_version": 3,
     "solution": false,
     "task": false
    }
   },
   "source": [
    "## Task 3f.2.3 - Control the robot using the GP-based policy as the feedback controller while penalizing uncertainty (5p)\n",
    "### Initialize the `ControllerModel` and train the GP (0p)"
   ]
  },
  {
   "cell_type": "code",
   "execution_count": 8,
   "metadata": {
    "deletable": false,
    "editable": false,
    "nbgrader": {
     "cell_type": "code",
     "checksum": "8477b5084b4d162b40106cf2b7c1a1bf",
     "grade": false,
     "grade_id": "cell-46b955d92430ebec",
     "locked": true,
     "schema_version": 3,
     "solution": false,
     "task": false
    }
   },
   "outputs": [
    {
     "data": {
      "application/vnd.jupyter.widget-view+json": {
       "model_id": "04698942702e470ca2a24a4b00b1539e",
       "version_major": 2,
       "version_minor": 0
      },
      "text/plain": [
       "  0%|          | 0/400 [00:00<?, ?it/s]"
      ]
     },
     "metadata": {},
     "output_type": "display_data"
    },
    {
     "data": {
      "image/png": "[encoded data removed]",
      "text/plain": [
       "<Figure size 640x480 with 1 Axes>"
      ]
     },
     "metadata": {},
     "output_type": "display_data"
    }
   ],
   "source": [
    "# set random seed\n",
    "torch.manual_seed(42)\n",
    "\n",
    "controller_model_feedback_torque = ControllerModel(X_feedback_torque, Y_feedback_torque)\n",
    "controller_model_feedback_torque.train(num_epochs=400)\n",
    "\n",
    "# plot convergence of training loss\n",
    "controller_model_feedback_torque.plot_convergence(\n",
    "    \"task_3f-2-3_training_convergence_feedback_torques_state_input.pdf\"\n",
    ")"
   ]
  },
  {
   "cell_type": "markdown",
   "metadata": {
    "deletable": false,
    "editable": false,
    "nbgrader": {
     "cell_type": "markdown",
     "checksum": "b4c1611a42eeb52a6af79003d7e5fb9a",
     "grade": false,
     "grade_id": "cell-13317698876384ed",
     "locked": true,
     "schema_version": 3,
     "solution": false,
     "task": false
    }
   },
   "source": [
    "### Define the feedback control function that includes a variance minimization term (3p)\n",
    "The total torque will consist of two components, one from the minimization of the uncertainty due to the joint angle and one from the minimization of the uncertainty due to the joint velocity. You need to tune the weight of each term to obtain a good performance."
   ]
  },
  {
   "cell_type": "code",
   "execution_count": 12,
   "metadata": {
    "deletable": false,
    "nbgrader": {
     "cell_type": "code",
     "checksum": "2ea6df8c8ec598f3a1951272b46d1bff",
     "grade": true,
     "grade_id": "cell-e43d4e9e7619d1fc",
     "locked": false,
     "points": 3,
     "schema_version": 3,
     "solution": true,
     "task": false
    }
   },
   "outputs": [
    {
     "name": "stdout",
     "output_type": "stream",
     "text": [
      "starting simulation\n"
     ]
    },
    {
     "ename": "NameError",
     "evalue": "name 'tau_fb' is not defined",
     "output_type": "error",
     "traceback": [
      "\u001b[0;31m---------------------------------------------------------------------------\u001b[0m",
      "\u001b[0;31mNameError\u001b[0m                                 Traceback (most recent call last)",
      "Cell \u001b[0;32mIn[12], line 77\u001b[0m\n\u001b[1;32m     69\u001b[0m \u001b[38;5;66;03m# simulate the robot together in a closed loop with the GP-based controller\u001b[39;00m\n\u001b[1;32m     70\u001b[0m \u001b[38;5;28mprint\u001b[39m(\u001b[38;5;124m\"\u001b[39m\u001b[38;5;124mstarting simulation\u001b[39m\u001b[38;5;124m\"\u001b[39m)\n\u001b[1;32m     71\u001b[0m sim_ts \u001b[38;5;241m=\u001b[39m simulate_robot(\n\u001b[1;32m     72\u001b[0m     ROBOT_PARAMS,\n\u001b[1;32m     73\u001b[0m     t_ts\u001b[38;5;241m=\u001b[39mt_ts,\n\u001b[1;32m     74\u001b[0m     th_0\u001b[38;5;241m=\u001b[39mth_0,\n\u001b[1;32m     75\u001b[0m     th_d_0\u001b[38;5;241m=\u001b[39mth_d_0,\n\u001b[1;32m     76\u001b[0m     ctrl_ff\u001b[38;5;241m=\u001b[39mctrl_ff,\n\u001b[0;32m---> 77\u001b[0m     ctrl_fb\u001b[38;5;241m=\u001b[39m\u001b[43mfeedback_ctrl_factory\u001b[49m\u001b[43m(\u001b[49m\u001b[43mcontroller_model_feedback_torque\u001b[49m\u001b[43m)\u001b[49m,\n\u001b[1;32m     78\u001b[0m     jit_compile\u001b[38;5;241m=\u001b[39m\u001b[38;5;28;01mFalse\u001b[39;00m,\n\u001b[1;32m     79\u001b[0m )\n\u001b[1;32m     80\u001b[0m \u001b[38;5;28mprint\u001b[39m(\u001b[38;5;124m\"\u001b[39m\u001b[38;5;124mfinished simulation\u001b[39m\u001b[38;5;124m\"\u001b[39m)\n\u001b[1;32m     82\u001b[0m \u001b[38;5;28;01mif\u001b[39;00m \u001b[38;5;129;01mnot\u001b[39;00m AUTOGRADING:\n",
      "Cell \u001b[0;32mIn[12], line 66\u001b[0m, in \u001b[0;36mfeedback_ctrl_factory\u001b[0;34m(controller_model)\u001b[0m\n\u001b[1;32m     61\u001b[0m     \u001b[38;5;66;03m# compute the total feedback torque\u001b[39;00m\n\u001b[1;32m     62\u001b[0m     tau_fb \u001b[38;5;241m=\u001b[39m tau_gp_mean \u001b[38;5;241m+\u001b[39m tau_var_repel_position \u001b[38;5;241m+\u001b[39m tau_var_repel_velocity\n\u001b[0;32m---> 66\u001b[0m \u001b[38;5;28;01mreturn\u001b[39;00m \u001b[43mtau_fb\u001b[49m\n",
      "\u001b[0;31mNameError\u001b[0m: name 'tau_fb' is not defined"
     ]
    }
   ],
   "source": [
    "th_0 = traj_ts[\"th_ts\"][0]\n",
    "th_d_0 = traj_ts[\"th_d_ts\"][0]\n",
    "\n",
    "# define feedforward gravity compensation controller\n",
    "ctrl_ff = partial(\n",
    "    ctrl_ff_gravity_compensation, partial(dynamical_matrices, ROBOT_PARAMS)\n",
    ")\n",
    "\n",
    "\n",
    "def feedback_ctrl_factory(controller_model: ControllerModel):\n",
    "    # define the feedback function that implements the GP-based controller\n",
    "    def ctrl_fb(th: Array, th_d: Array, th_des: Array, th_d_des: Array) -> Array:\n",
    "        \"\"\"\n",
    "        Feedback controller that leverages the GP to compute the control action cloning the behavior of the PD controller\n",
    "        Args:\n",
    "            th: link angles. Shape: (2,)\n",
    "            th_d: link velocities. Shape: (2,)\n",
    "            th_des: desired link angles. Shape: (2,)\n",
    "            th_d_des: desired link velocities. Shape: (2,)\n",
    "        Returns:\n",
    "            tau_fb: link torques computed by the GP-based feedback controller. Shape: (2,)\n",
    "        \"\"\"\n",
    "        # compute the normalized joint angles (i.e., relative angles) from the link angles\n",
    "        th_rel = normalize_link_angles(jnp.array([th[0], th[1] - th[0]]))\n",
    "        # compute the joint velocities from the link velocities\n",
    "        th_d_rel = jnp.array([th_d[0], th_d[1] - th_d[0]])\n",
    "\n",
    "        # construct input for GP\n",
    "        gp_input = torch.tensor(\n",
    "            np.array(jnp.concatenate([th_rel, th_d_rel], axis=-1))\n",
    "        ).unsqueeze(0)\n",
    "\n",
    "        # perform the prediction with the GP\n",
    "        # gp_output =\n",
    "        # tau_gp_mean =\n",
    "        # tau_gp_sigma =\n",
    "        # YOUR CODE HERE\n",
    "        gp_output = controller_model.predict(gp_input)\n",
    "        tau_gp_mean = gp_output.mean.detach().numpy().squeeze()\n",
    "        tau_gp_sigma = gp_output.variance.detach().numpy().squeeze()\n",
    "\n",
    "        # derive the gradient of the variance\n",
    "        # grad_gp_var =\n",
    "        # YOUR CODE HERE\n",
    "        grad_gp_var = controller_model.derivative_variance(gp_input).numpy().squeeze()\n",
    "\n",
    "\n",
    "        # implement the control policy component that repels the system away from uncertainty\n",
    "        # proportional to k_var, tau_gp_sigma, and grad_gp_var\n",
    "        # k_var_postion=\n",
    "        # k_var_velocity =\n",
    "        # tau_var_repel_position =\n",
    "        # tau_var_repel_velocity=\n",
    "        # Hint: k_var_* should be in the range [0, 20]\n",
    "        # YOUR CODE HERE\n",
    "        k_var_position = 10.0  \n",
    "        k_var_velocity = 10.0 \n",
    "        tau_var_repel_position = -k_var_position * tau_gp_sigma * grad_gp_var[0]\n",
    "        tau_var_repel_velocity = -k_var_velocity * tau_gp_sigma * grad_gp_var[1]\n",
    "\n",
    "        # compute the total feedback torque\n",
    "        tau_fb = tau_gp_mean + tau_var_repel_position + tau_var_repel_velocity\n",
    "\n",
    "        \n",
    "\n",
    "    return ctrl_fb\n",
    "\n",
    "\n",
    "# simulate the robot together in a closed loop with the GP-based controller\n",
    "print(\"starting simulation\")\n",
    "sim_ts = simulate_robot(\n",
    "    ROBOT_PARAMS,\n",
    "    t_ts=t_ts,\n",
    "    th_0=th_0,\n",
    "    th_d_0=th_d_0,\n",
    "    ctrl_ff=ctrl_ff,\n",
    "    ctrl_fb=feedback_ctrl_factory(controller_model_feedback_torque),\n",
    "    jit_compile=False,\n",
    ")\n",
    "print(\"finished simulation\")\n",
    "\n",
    "if not AUTOGRADING:\n",
    "    print(\"producing animation\")\n",
    "    ani = animate_robot(\n",
    "        ROBOT_PARAMS,\n",
    "        traj_ts=traj_ts,\n",
    "        sim_ts=sim_ts,\n",
    "        step_skip=5,\n",
    "        show=False,\n",
    "        filepath=str(\n",
    "            outputs_dir\n",
    "            / \"task_3f-2-3_robot_animation_behavioural_cloning_feedback_torques_variance_minimization_state_input.mp4\"\n",
    "        ),\n",
    "    )\n",
    "    display(HTML(ani.to_html5_video()))"
   ]
  },
  {
   "cell_type": "markdown",
   "metadata": {
    "deletable": false,
    "editable": false,
    "nbgrader": {
     "cell_type": "markdown",
     "checksum": "b9811e210e71b634216152ebea661476",
     "grade": false,
     "grade_id": "cell-0d32c880f4a7540c",
     "locked": true,
     "schema_version": 3,
     "solution": false,
     "task": false
    }
   },
   "source": [
    "### Discuss the results and motivate your reasoning (2p)"
   ]
  },
  {
   "cell_type": "markdown",
   "metadata": {
    "deletable": false,
    "nbgrader": {
     "cell_type": "markdown",
     "checksum": "1121aa1a83f05a316f3e0c80c5671c82",
     "grade": true,
     "grade_id": "cell-afb7f27a57daec86",
     "locked": false,
     "points": 2,
     "schema_version": 3,
     "solution": true,
     "task": false
    }
   },
   "source": [
    "YOUR ANSWER HERE"
   ]
  },
  {
   "cell_type": "markdown",
   "metadata": {
    "deletable": false,
    "editable": false,
    "nbgrader": {
     "cell_type": "markdown",
     "checksum": "8df9964c65c469f321e7976fc86ff6d3",
     "grade": false,
     "grade_id": "cell-398fdf25c549de6b",
     "locked": true,
     "schema_version": 3,
     "solution": false,
     "task": false
    }
   },
   "source": [
    "## Task 3f.2.3 - Evaluate the GP-based feedback control policy for perturbed initial conditions (2p)"
   ]
  },
  {
   "cell_type": "code",
   "execution_count": null,
   "metadata": {
    "deletable": false,
    "editable": false,
    "nbgrader": {
     "cell_type": "code",
     "checksum": "671f48ff4aae4c4fb9317ed9c16cf4dc",
     "grade": false,
     "grade_id": "cell-a39352041ff38316",
     "locked": true,
     "schema_version": 3,
     "solution": false,
     "task": false
    }
   },
   "outputs": [],
   "source": [
    "# initialize PRNG key\n",
    "rng = random.PRNGKey(seed=0)\n",
    "\n",
    "# sample perturbation and define initial condition\n",
    "rng, rng_sampling = random.split(rng, 2)\n",
    "perturb = random.normal(rng_sampling, (4,))\n",
    "th_0 = traj_ts[\"th_ts\"][0] + 0.1 * perturb[:2]\n",
    "th_d_0 = traj_ts[\"th_d_ts\"][0] * 0.5 * perturb[-2:]\n",
    "\n",
    "# simulate the robot together in a closed loop with the GP-based controller\n",
    "print(\"starting simulation\")\n",
    "sim_ts = simulate_robot(\n",
    "    ROBOT_PARAMS,\n",
    "    t_ts=t_ts,\n",
    "    th_0=th_0,\n",
    "    th_d_0=th_d_0,\n",
    "    ctrl_ff=ctrl_ff,\n",
    "    ctrl_fb=feedback_ctrl_factory(controller_model_feedback_torque),\n",
    "    jit_compile=False,\n",
    ")\n",
    "print(\"finished simulation\")\n",
    "\n",
    "if not AUTOGRADING:\n",
    "    print(\"producing animation\")\n",
    "    ani = animate_robot(\n",
    "        ROBOT_PARAMS,\n",
    "        traj_ts=traj_ts,\n",
    "        sim_ts=sim_ts,\n",
    "        step_skip=5,\n",
    "        show=False,\n",
    "        filepath=str(\n",
    "            outputs_dir\n",
    "            / \"task_3f-2-3_robot_animation_behavioural_cloning_feedback_torques_variance_minimization_state_input_perturbed_initial_condition.mp4\"\n",
    "        ),\n",
    "    )\n",
    "    display(HTML(ani.to_html5_video()))"
   ]
  },
  {
   "cell_type": "markdown",
   "metadata": {
    "deletable": false,
    "editable": false,
    "nbgrader": {
     "cell_type": "markdown",
     "checksum": "54c4944b28002ddd78b73d9aff1ad9ad",
     "grade": false,
     "grade_id": "cell-d1959064dfe392e0",
     "locked": true,
     "schema_version": 3,
     "solution": false,
     "task": false
    }
   },
   "source": [
    "### Comparison of control performance with Task 3f.1 (2p)\n",
    "Discuss the results and motivate your reasoning by comparing the performance with Task 3f.1, where we controlled the robot as a function of the joint angles."
   ]
  },
  {
   "cell_type": "markdown",
   "metadata": {
    "deletable": false,
    "nbgrader": {
     "cell_type": "markdown",
     "checksum": "2fa6eb5628dee746853604cb56f5e044",
     "grade": true,
     "grade_id": "cell-43f617cdbf8c2070",
     "locked": false,
     "points": 2,
     "schema_version": 3,
     "solution": true,
     "task": false
    }
   },
   "source": [
    "YOUR ANSWER HERE"
   ]
  },
  {
   "cell_type": "markdown",
   "metadata": {
    "deletable": false,
    "editable": false,
    "nbgrader": {
     "cell_type": "markdown",
     "checksum": "962d6e954ed71a2bcf02649321d9e9b1",
     "grade": false,
     "grade_id": "cell-32b7faeb4777b75a",
     "locked": true,
     "schema_version": 3,
     "solution": false,
     "task": false
    }
   },
   "source": [
    "## Task 3f.2.4 - Behavioural cloning of the total torque (1p)\n",
    "To conclude this assignment, we will clone the total torque (instead of just the feedback torque), i.e., the sum of the feedback torque and the feedforward torque. The feedforward torque is computed as the gravity compensation torque. This is handy because, during control, we will not have to rely anymore on the gravity compensation term, and with that, we do not require any model knowledge during inference time."
   ]
  },
  {
   "cell_type": "code",
   "execution_count": null,
   "metadata": {
    "deletable": false,
    "editable": false,
    "nbgrader": {
     "cell_type": "code",
     "checksum": "b431b87ca2a353e50b849c2ed6b54096",
     "grade": false,
     "grade_id": "cell-ef5ccc6b575163f4",
     "locked": true,
     "schema_version": 3,
     "solution": false,
     "task": false
    }
   },
   "outputs": [],
   "source": [
    "dataset_name = \"trajectory_high_gains_grav_comp\"\n",
    "df = pd.read_csv(datasets_dir / f\"{dataset_name}.csv\")\n",
    "\n",
    "input_columns = [\"th_ts_1\", \"th_ts_2_rel\", \"th_d_ts_1\", \"th_d_ts_2_rel\"]\n",
    "output_columns = [\"tau_ts_1\", \"tau_ts_2\"]\n",
    "\n",
    "# assemble tensors for training\n",
    "X_total_torque, Y_total_torque = generate_training_data(\n",
    "    df, input_columns, output_columns\n",
    ")"
   ]
  },
  {
   "cell_type": "code",
   "execution_count": null,
   "metadata": {
    "deletable": false,
    "nbgrader": {
     "cell_type": "code",
     "checksum": "b44f7142ac4ea493545b663fcb8f70e9",
     "grade": true,
     "grade_id": "cell-198ddf672ff4b017",
     "locked": false,
     "points": 1,
     "schema_version": 3,
     "solution": true,
     "task": false
    }
   },
   "outputs": [],
   "source": [
    "# set random seed\n",
    "torch.manual_seed(42)\n",
    "\n",
    "# controller_model_total_torque =\n",
    "# YOUR CODE HERE\n",
    "raise NotImplementedError()\n",
    "\n",
    "# plot convergence of training loss\n",
    "controller_model_total_torque.plot_convergence(\n",
    "    \"task_3f-2-4_training_convergence_total_torques_state_input.pdf\"\n",
    ")"
   ]
  },
  {
   "cell_type": "markdown",
   "metadata": {
    "deletable": false,
    "editable": false,
    "nbgrader": {
     "cell_type": "markdown",
     "checksum": "235e37a8515b77785a152416268364b0",
     "grade": false,
     "grade_id": "cell-5a18017d8d317f34",
     "locked": true,
     "schema_version": 3,
     "solution": false,
     "task": false
    }
   },
   "source": [
    "### Closed-loop simulation with unperturbed initial conditions (0p)"
   ]
  },
  {
   "cell_type": "code",
   "execution_count": null,
   "metadata": {
    "deletable": false,
    "editable": false,
    "nbgrader": {
     "cell_type": "code",
     "checksum": "7a253c855bb45eddae12a324569dee45",
     "grade": false,
     "grade_id": "cell-ea31521a733235af",
     "locked": true,
     "schema_version": 3,
     "solution": false,
     "task": false
    }
   },
   "outputs": [],
   "source": [
    "th_0 = traj_ts[\"th_ts\"][0]\n",
    "th_d_0 = traj_ts[\"th_d_ts\"][0]\n",
    "# simulate the robot together in a closed loop with the GP-based controller\n",
    "print(\"starting simulation\")\n",
    "sim_ts = simulate_robot(\n",
    "    ROBOT_PARAMS,\n",
    "    t_ts=t_ts,\n",
    "    th_0=th_0,\n",
    "    th_d_0=th_d_0,\n",
    "    # note that we are not anymore providing a feedforward control policy to the simulator\n",
    "    ctrl_fb=feedback_ctrl_factory(controller_model_total_torque),\n",
    "    jit_compile=False,\n",
    ")\n",
    "print(\"finished simulation\")\n",
    "\n",
    "if not AUTOGRADING:\n",
    "    print(\"producing animation\")\n",
    "    ani = animate_robot(\n",
    "        ROBOT_PARAMS,\n",
    "        traj_ts=traj_ts,\n",
    "        sim_ts=sim_ts,\n",
    "        step_skip=5,\n",
    "        show=False,\n",
    "        filepath=str(\n",
    "            outputs_dir\n",
    "            / \"task_3f-2-4_robot_animation_behavioural_cloning_total_torques_variance_minimization_state_input.mp4\"\n",
    "        ),\n",
    "    )\n",
    "    display(HTML(ani.to_html5_video()))"
   ]
  },
  {
   "cell_type": "markdown",
   "metadata": {
    "deletable": false,
    "editable": false,
    "nbgrader": {
     "cell_type": "markdown",
     "checksum": "fd811ee5438bb9e1125912ab21b444c8",
     "grade": false,
     "grade_id": "cell-3aeff1608b0b16ed",
     "locked": true,
     "schema_version": 3,
     "solution": false,
     "task": false
    }
   },
   "source": [
    "### Closed-loop simulation with perturbed initial conditions (0p)"
   ]
  },
  {
   "cell_type": "code",
   "execution_count": null,
   "metadata": {
    "deletable": false,
    "editable": false,
    "nbgrader": {
     "cell_type": "code",
     "checksum": "dbbb15f8ff62bcad9423ae92cd219d75",
     "grade": false,
     "grade_id": "cell-0818f9d069fc7371",
     "locked": true,
     "schema_version": 3,
     "solution": false,
     "task": false
    }
   },
   "outputs": [],
   "source": [
    "# initialize PRNG key\n",
    "rng = random.PRNGKey(seed=0)\n",
    "\n",
    "# sample perturbation and define initial condition\n",
    "rng, rng_sampling = random.split(rng, 2)\n",
    "perturb = random.normal(rng_sampling, (4,))\n",
    "th_0 = traj_ts[\"th_ts\"][0] + 0.1 * perturb[:2]\n",
    "th_d_0 = traj_ts[\"th_d_ts\"][0] * 0.5 * perturb[-2:]\n",
    "\n",
    "# simulate the robot together in a closed loop with the GP-based controller\n",
    "print(\"starting simulation\")\n",
    "sim_ts = simulate_robot(\n",
    "    ROBOT_PARAMS,\n",
    "    t_ts=t_ts,\n",
    "    th_0=th_0,\n",
    "    th_d_0=th_d_0,\n",
    "    # note that we are not anymore providing a feedforward control policy to the simulator\n",
    "    ctrl_fb=feedback_ctrl_factory(controller_model_total_torque),\n",
    "    jit_compile=False,\n",
    ")\n",
    "print(\"finished simulation\")\n",
    "\n",
    "if not AUTOGRADING:\n",
    "    print(\"producing animation\")\n",
    "    ani = animate_robot(\n",
    "        ROBOT_PARAMS,\n",
    "        traj_ts=traj_ts,\n",
    "        sim_ts=sim_ts,\n",
    "        step_skip=5,\n",
    "        show=False,\n",
    "        filepath=str(\n",
    "            outputs_dir\n",
    "            / \"task_3f-2-4_robot_animation_behavioural_cloning_total_torques_variance_minimization_state_input_perturbed_initial_condition.mp4\"\n",
    "        ),\n",
    "    )\n",
    "    display(HTML(ani.to_html5_video()))"
   ]
  },
  {
   "cell_type": "markdown",
   "metadata": {
    "deletable": false,
    "editable": false,
    "nbgrader": {
     "cell_type": "markdown",
     "checksum": "d5a95f1267884c992d2beaa779ffd16c",
     "grade": false,
     "grade_id": "cell-6349b2a6d015ab3b",
     "locked": true,
     "schema_version": 3,
     "solution": false,
     "task": false
    }
   },
   "source": [
    "## Task 3f.2.5 - Design your own GP-based controller (Bonus, max. 5p)\n",
    "Propose your own controller involving a Gaussian Process and evaluate it in a closed-loop with the robot simulator. You can use the code from the previous tasks as a starting point. You can also use the code from the previous tasks to generate your own dataset.\n",
    "### Implement and simulate your controller (3p)"
   ]
  },
  {
   "cell_type": "code",
   "execution_count": null,
   "metadata": {
    "deletable": false,
    "nbgrader": {
     "cell_type": "code",
     "checksum": "85ed6e415298b02e1d8ab87d63d194ca",
     "grade": true,
     "grade_id": "cell-107c13e239e1abd6",
     "locked": false,
     "points": 3,
     "schema_version": 3,
     "solution": true,
     "task": false
    }
   },
   "outputs": [],
   "source": [
    "# YOUR CODE GOES HERE\n",
    "# YOUR CODE HERE\n",
    "raise NotImplementedError()"
   ]
  },
  {
   "cell_type": "markdown",
   "metadata": {
    "deletable": false,
    "editable": false,
    "nbgrader": {
     "cell_type": "markdown",
     "checksum": "e2976710d7caef2b81b02ae6fdf28ba4",
     "grade": false,
     "grade_id": "cell-ea05c1b5db40e092",
     "locked": true,
     "schema_version": 3,
     "solution": false,
     "task": false
    }
   },
   "source": [
    "### Discuss your GP-based controller and its performance (2p)"
   ]
  },
  {
   "cell_type": "markdown",
   "metadata": {
    "deletable": false,
    "nbgrader": {
     "cell_type": "markdown",
     "checksum": "d03789319224a05641e41c7451397be9",
     "grade": true,
     "grade_id": "cell-32dac9a7cba4b4e7",
     "locked": false,
     "points": 2,
     "schema_version": 3,
     "solution": true,
     "task": false
    }
   },
   "source": [
    "YOUR ANSWER HERE"
   ]
  }
 ],
 "metadata": {
  "kernelspec": {
   "display_name": "Python 3 (ipykernel)",
   "language": "python",
   "name": "python3"
  },
  "language_info": {
   "codemirror_mode": {
    "name": "ipython",
    "version": 3
   },
   "file_extension": ".py",
   "mimetype": "text/x-python",
   "name": "python",
   "nbconvert_exporter": "python",
   "pygments_lexer": "ipython3",
   "version": "3.11.7"
  }
 },
 "nbformat": 4,
 "nbformat_minor": 4
}
